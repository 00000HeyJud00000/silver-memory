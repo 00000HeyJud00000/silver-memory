{
 "cells": [
  {
   "cell_type": "markdown",
   "id": "6ee06072",
   "metadata": {},
   "source": [
    "# Linear Regression"
   ]
  },
  {
   "cell_type": "markdown",
   "id": "af200271",
   "metadata": {},
   "source": [
    "This part presents how a multiple linear regression can be used. The data used is the Housing Rent Dataset `housing_rent`. This dataset contains information collected by `Samprati Kothari` by scraping the cragigslist website, concerning the rent in different regions in US. "
   ]
  },
  {
   "cell_type": "markdown",
   "id": "7255815a",
   "metadata": {},
   "source": [
    "source: https://www.kaggle.com/samprati97/housing-rent-dataset?select=housing_train.csv"
   ]
  },
  {
   "cell_type": "markdown",
   "id": "3df01875",
   "metadata": {},
   "source": [
    "### Main Question"
   ]
  },
  {
   "cell_type": "markdown",
   "id": "3870385c",
   "metadata": {},
   "source": [
    "How can we predict the rent prices in Birmingham using the `housing_rent` dataset? "
   ]
  },
  {
   "cell_type": "markdown",
   "id": "7ed2197e",
   "metadata": {},
   "source": [
    "### Steps to create the regression line"
   ]
  },
  {
   "cell_type": "markdown",
   "id": "fdf44ba3",
   "metadata": {},
   "source": [
    "#### Part 1: Pre-processing and EDA"
   ]
  },
  {
   "cell_type": "markdown",
   "id": "92968b79",
   "metadata": {},
   "source": [
    "1. Import the necessary libraries"
   ]
  },
  {
   "cell_type": "code",
   "execution_count": 2,
   "id": "c6a41c9b",
   "metadata": {},
   "outputs": [],
   "source": [
    "%matplotlib inline\n",
    "import matplotlib.pyplot as plt\n",
    "import pandas as pd\n",
    "import numpy as np\n",
    "from sklearn.linear_model import LinearRegression\n",
    "from sklearn.model_selection import train_test_split\n",
    "import seaborn as sns"
   ]
  },
  {
   "cell_type": "markdown",
   "id": "d1362918",
   "metadata": {},
   "source": [
    "2. Import/Load the dataset"
   ]
  },
  {
   "cell_type": "code",
   "execution_count": 3,
   "id": "57a2e1a1",
   "metadata": {
    "scrolled": true
   },
   "outputs": [
    {
     "data": {
      "text/html": [
       "<div>\n",
       "<style scoped>\n",
       "    .dataframe tbody tr th:only-of-type {\n",
       "        vertical-align: middle;\n",
       "    }\n",
       "\n",
       "    .dataframe tbody tr th {\n",
       "        vertical-align: top;\n",
       "    }\n",
       "\n",
       "    .dataframe thead th {\n",
       "        text-align: right;\n",
       "    }\n",
       "</style>\n",
       "<table border=\"1\" class=\"dataframe\">\n",
       "  <thead>\n",
       "    <tr style=\"text-align: right;\">\n",
       "      <th></th>\n",
       "      <th>id</th>\n",
       "      <th>url</th>\n",
       "      <th>region</th>\n",
       "      <th>region_url</th>\n",
       "      <th>price</th>\n",
       "      <th>type</th>\n",
       "      <th>sqfeet</th>\n",
       "      <th>beds</th>\n",
       "      <th>baths</th>\n",
       "      <th>cats_allowed</th>\n",
       "      <th>...</th>\n",
       "      <th>wheelchair_access</th>\n",
       "      <th>electric_vehicle_charge</th>\n",
       "      <th>comes_furnished</th>\n",
       "      <th>laundry_options</th>\n",
       "      <th>parking_options</th>\n",
       "      <th>image_url</th>\n",
       "      <th>description</th>\n",
       "      <th>lat</th>\n",
       "      <th>long</th>\n",
       "      <th>state</th>\n",
       "    </tr>\n",
       "  </thead>\n",
       "  <tbody>\n",
       "    <tr>\n",
       "      <th>0</th>\n",
       "      <td>7039061606</td>\n",
       "      <td>https://bham.craigslist.org/apa/d/birmingham-h...</td>\n",
       "      <td>birmingham</td>\n",
       "      <td>https://bham.craigslist.org</td>\n",
       "      <td>1195</td>\n",
       "      <td>apartment</td>\n",
       "      <td>1908</td>\n",
       "      <td>3</td>\n",
       "      <td>2.0</td>\n",
       "      <td>1</td>\n",
       "      <td>...</td>\n",
       "      <td>0</td>\n",
       "      <td>0</td>\n",
       "      <td>0</td>\n",
       "      <td>laundry on site</td>\n",
       "      <td>street parking</td>\n",
       "      <td>https://images.craigslist.org/00L0L_80pNkyDeG0...</td>\n",
       "      <td>Apartments In Birmingham AL Welcome to 100 Inv...</td>\n",
       "      <td>33.4226</td>\n",
       "      <td>-86.7065</td>\n",
       "      <td>al</td>\n",
       "    </tr>\n",
       "    <tr>\n",
       "      <th>1</th>\n",
       "      <td>7041970863</td>\n",
       "      <td>https://bham.craigslist.org/apa/d/birmingham-w...</td>\n",
       "      <td>birmingham</td>\n",
       "      <td>https://bham.craigslist.org</td>\n",
       "      <td>1120</td>\n",
       "      <td>apartment</td>\n",
       "      <td>1319</td>\n",
       "      <td>3</td>\n",
       "      <td>2.0</td>\n",
       "      <td>1</td>\n",
       "      <td>...</td>\n",
       "      <td>0</td>\n",
       "      <td>0</td>\n",
       "      <td>0</td>\n",
       "      <td>laundry on site</td>\n",
       "      <td>off-street parking</td>\n",
       "      <td>https://images.craigslist.org/00707_uRrY9CsNMC...</td>\n",
       "      <td>Find Your Way to Haven Apartment Homes Come ho...</td>\n",
       "      <td>33.3755</td>\n",
       "      <td>-86.8045</td>\n",
       "      <td>al</td>\n",
       "    </tr>\n",
       "    <tr>\n",
       "      <th>2</th>\n",
       "      <td>7041966914</td>\n",
       "      <td>https://bham.craigslist.org/apa/d/birmingham-g...</td>\n",
       "      <td>birmingham</td>\n",
       "      <td>https://bham.craigslist.org</td>\n",
       "      <td>825</td>\n",
       "      <td>apartment</td>\n",
       "      <td>1133</td>\n",
       "      <td>1</td>\n",
       "      <td>1.5</td>\n",
       "      <td>1</td>\n",
       "      <td>...</td>\n",
       "      <td>0</td>\n",
       "      <td>0</td>\n",
       "      <td>0</td>\n",
       "      <td>laundry on site</td>\n",
       "      <td>street parking</td>\n",
       "      <td>https://images.craigslist.org/00h0h_b7Bdj1NLBi...</td>\n",
       "      <td>Apartments In Birmingham AL Welcome to 100 Inv...</td>\n",
       "      <td>33.4226</td>\n",
       "      <td>-86.7065</td>\n",
       "      <td>al</td>\n",
       "    </tr>\n",
       "    <tr>\n",
       "      <th>3</th>\n",
       "      <td>7041966936</td>\n",
       "      <td>https://bham.craigslist.org/apa/d/birmingham-f...</td>\n",
       "      <td>birmingham</td>\n",
       "      <td>https://bham.craigslist.org</td>\n",
       "      <td>800</td>\n",
       "      <td>apartment</td>\n",
       "      <td>927</td>\n",
       "      <td>1</td>\n",
       "      <td>1.0</td>\n",
       "      <td>1</td>\n",
       "      <td>...</td>\n",
       "      <td>0</td>\n",
       "      <td>0</td>\n",
       "      <td>0</td>\n",
       "      <td>laundry on site</td>\n",
       "      <td>street parking</td>\n",
       "      <td>https://images.craigslist.org/00808_6ghZ8tSRQs...</td>\n",
       "      <td>Apartments In Birmingham AL Welcome to 100 Inv...</td>\n",
       "      <td>33.4226</td>\n",
       "      <td>-86.7065</td>\n",
       "      <td>al</td>\n",
       "    </tr>\n",
       "    <tr>\n",
       "      <th>4</th>\n",
       "      <td>7041966888</td>\n",
       "      <td>https://bham.craigslist.org/apa/d/birmingham-2...</td>\n",
       "      <td>birmingham</td>\n",
       "      <td>https://bham.craigslist.org</td>\n",
       "      <td>785</td>\n",
       "      <td>apartment</td>\n",
       "      <td>1047</td>\n",
       "      <td>2</td>\n",
       "      <td>1.0</td>\n",
       "      <td>1</td>\n",
       "      <td>...</td>\n",
       "      <td>0</td>\n",
       "      <td>0</td>\n",
       "      <td>0</td>\n",
       "      <td>laundry on site</td>\n",
       "      <td>street parking</td>\n",
       "      <td>https://images.craigslist.org/00y0y_21c0FOvUXm...</td>\n",
       "      <td>Apartments In Birmingham AL Welcome to 100 Inv...</td>\n",
       "      <td>33.4226</td>\n",
       "      <td>-86.7065</td>\n",
       "      <td>al</td>\n",
       "    </tr>\n",
       "    <tr>\n",
       "      <th>5</th>\n",
       "      <td>7041966868</td>\n",
       "      <td>https://bham.craigslist.org/apa/d/birmingham-s...</td>\n",
       "      <td>birmingham</td>\n",
       "      <td>https://bham.craigslist.org</td>\n",
       "      <td>900</td>\n",
       "      <td>apartment</td>\n",
       "      <td>1298</td>\n",
       "      <td>2</td>\n",
       "      <td>2.0</td>\n",
       "      <td>1</td>\n",
       "      <td>...</td>\n",
       "      <td>0</td>\n",
       "      <td>0</td>\n",
       "      <td>0</td>\n",
       "      <td>laundry on site</td>\n",
       "      <td>street parking</td>\n",
       "      <td>https://images.craigslist.org/00606_g79izH5xxk...</td>\n",
       "      <td>Apartments In Birmingham AL Welcome to 100 Inv...</td>\n",
       "      <td>33.4226</td>\n",
       "      <td>-86.7065</td>\n",
       "      <td>al</td>\n",
       "    </tr>\n",
       "    <tr>\n",
       "      <th>6</th>\n",
       "      <td>7041966702</td>\n",
       "      <td>https://bham.craigslist.org/apa/d/birmingham-2...</td>\n",
       "      <td>birmingham</td>\n",
       "      <td>https://bham.craigslist.org</td>\n",
       "      <td>925</td>\n",
       "      <td>apartment</td>\n",
       "      <td>1350</td>\n",
       "      <td>2</td>\n",
       "      <td>2.0</td>\n",
       "      <td>1</td>\n",
       "      <td>...</td>\n",
       "      <td>0</td>\n",
       "      <td>0</td>\n",
       "      <td>0</td>\n",
       "      <td>laundry on site</td>\n",
       "      <td>street parking</td>\n",
       "      <td>https://images.craigslist.org/00505_cAu36QXQV4...</td>\n",
       "      <td>Apartments In Birmingham AL Welcome to 100 Inv...</td>\n",
       "      <td>33.4226</td>\n",
       "      <td>-86.7065</td>\n",
       "      <td>al</td>\n",
       "    </tr>\n",
       "    <tr>\n",
       "      <th>7</th>\n",
       "      <td>7041964186</td>\n",
       "      <td>https://bham.craigslist.org/apa/d/calera-st-av...</td>\n",
       "      <td>birmingham</td>\n",
       "      <td>https://bham.craigslist.org</td>\n",
       "      <td>1085</td>\n",
       "      <td>house</td>\n",
       "      <td>2308</td>\n",
       "      <td>3</td>\n",
       "      <td>2.0</td>\n",
       "      <td>1</td>\n",
       "      <td>...</td>\n",
       "      <td>0</td>\n",
       "      <td>0</td>\n",
       "      <td>0</td>\n",
       "      <td>w/d hookups</td>\n",
       "      <td>NaN</td>\n",
       "      <td>https://images.craigslist.org/00D0D_g4BE3jPMBr...</td>\n",
       "      <td>This is a NEW and LARGE 3BR, 2BTH renovation i...</td>\n",
       "      <td>33.0969</td>\n",
       "      <td>-86.7601</td>\n",
       "      <td>al</td>\n",
       "    </tr>\n",
       "    <tr>\n",
       "      <th>8</th>\n",
       "      <td>7041960353</td>\n",
       "      <td>https://bham.craigslist.org/apa/d/birmingham-n...</td>\n",
       "      <td>birmingham</td>\n",
       "      <td>https://bham.craigslist.org</td>\n",
       "      <td>1269</td>\n",
       "      <td>apartment</td>\n",
       "      <td>1156</td>\n",
       "      <td>3</td>\n",
       "      <td>2.0</td>\n",
       "      <td>1</td>\n",
       "      <td>...</td>\n",
       "      <td>0</td>\n",
       "      <td>0</td>\n",
       "      <td>0</td>\n",
       "      <td>w/d in unit</td>\n",
       "      <td>NaN</td>\n",
       "      <td>https://images.craigslist.org/00a0a_lTBiptw032...</td>\n",
       "      <td>Perfect Location and a Perfect Price!!!  Come ...</td>\n",
       "      <td>33.4237</td>\n",
       "      <td>-86.8015</td>\n",
       "      <td>al</td>\n",
       "    </tr>\n",
       "    <tr>\n",
       "      <th>9</th>\n",
       "      <td>7041959413</td>\n",
       "      <td>https://bham.craigslist.org/apa/d/birmingham-a...</td>\n",
       "      <td>birmingham</td>\n",
       "      <td>https://bham.craigslist.org</td>\n",
       "      <td>799</td>\n",
       "      <td>apartment</td>\n",
       "      <td>703</td>\n",
       "      <td>1</td>\n",
       "      <td>1.0</td>\n",
       "      <td>1</td>\n",
       "      <td>...</td>\n",
       "      <td>0</td>\n",
       "      <td>0</td>\n",
       "      <td>0</td>\n",
       "      <td>w/d in unit</td>\n",
       "      <td>NaN</td>\n",
       "      <td>https://images.craigslist.org/00707_9dHoTSYoQn...</td>\n",
       "      <td>HWY 31 and I-65 access for easy commute! Be Do...</td>\n",
       "      <td>33.4237</td>\n",
       "      <td>-86.8015</td>\n",
       "      <td>al</td>\n",
       "    </tr>\n",
       "  </tbody>\n",
       "</table>\n",
       "<p>10 rows × 22 columns</p>\n",
       "</div>"
      ],
      "text/plain": [
       "           id                                                url      region  \\\n",
       "0  7039061606  https://bham.craigslist.org/apa/d/birmingham-h...  birmingham   \n",
       "1  7041970863  https://bham.craigslist.org/apa/d/birmingham-w...  birmingham   \n",
       "2  7041966914  https://bham.craigslist.org/apa/d/birmingham-g...  birmingham   \n",
       "3  7041966936  https://bham.craigslist.org/apa/d/birmingham-f...  birmingham   \n",
       "4  7041966888  https://bham.craigslist.org/apa/d/birmingham-2...  birmingham   \n",
       "5  7041966868  https://bham.craigslist.org/apa/d/birmingham-s...  birmingham   \n",
       "6  7041966702  https://bham.craigslist.org/apa/d/birmingham-2...  birmingham   \n",
       "7  7041964186  https://bham.craigslist.org/apa/d/calera-st-av...  birmingham   \n",
       "8  7041960353  https://bham.craigslist.org/apa/d/birmingham-n...  birmingham   \n",
       "9  7041959413  https://bham.craigslist.org/apa/d/birmingham-a...  birmingham   \n",
       "\n",
       "                    region_url  price       type  sqfeet  beds  baths  \\\n",
       "0  https://bham.craigslist.org   1195  apartment    1908     3    2.0   \n",
       "1  https://bham.craigslist.org   1120  apartment    1319     3    2.0   \n",
       "2  https://bham.craigslist.org    825  apartment    1133     1    1.5   \n",
       "3  https://bham.craigslist.org    800  apartment     927     1    1.0   \n",
       "4  https://bham.craigslist.org    785  apartment    1047     2    1.0   \n",
       "5  https://bham.craigslist.org    900  apartment    1298     2    2.0   \n",
       "6  https://bham.craigslist.org    925  apartment    1350     2    2.0   \n",
       "7  https://bham.craigslist.org   1085      house    2308     3    2.0   \n",
       "8  https://bham.craigslist.org   1269  apartment    1156     3    2.0   \n",
       "9  https://bham.craigslist.org    799  apartment     703     1    1.0   \n",
       "\n",
       "   cats_allowed  ...  wheelchair_access  electric_vehicle_charge  \\\n",
       "0             1  ...                  0                        0   \n",
       "1             1  ...                  0                        0   \n",
       "2             1  ...                  0                        0   \n",
       "3             1  ...                  0                        0   \n",
       "4             1  ...                  0                        0   \n",
       "5             1  ...                  0                        0   \n",
       "6             1  ...                  0                        0   \n",
       "7             1  ...                  0                        0   \n",
       "8             1  ...                  0                        0   \n",
       "9             1  ...                  0                        0   \n",
       "\n",
       "   comes_furnished  laundry_options     parking_options  \\\n",
       "0                0  laundry on site      street parking   \n",
       "1                0  laundry on site  off-street parking   \n",
       "2                0  laundry on site      street parking   \n",
       "3                0  laundry on site      street parking   \n",
       "4                0  laundry on site      street parking   \n",
       "5                0  laundry on site      street parking   \n",
       "6                0  laundry on site      street parking   \n",
       "7                0      w/d hookups                 NaN   \n",
       "8                0      w/d in unit                 NaN   \n",
       "9                0      w/d in unit                 NaN   \n",
       "\n",
       "                                           image_url  \\\n",
       "0  https://images.craigslist.org/00L0L_80pNkyDeG0...   \n",
       "1  https://images.craigslist.org/00707_uRrY9CsNMC...   \n",
       "2  https://images.craigslist.org/00h0h_b7Bdj1NLBi...   \n",
       "3  https://images.craigslist.org/00808_6ghZ8tSRQs...   \n",
       "4  https://images.craigslist.org/00y0y_21c0FOvUXm...   \n",
       "5  https://images.craigslist.org/00606_g79izH5xxk...   \n",
       "6  https://images.craigslist.org/00505_cAu36QXQV4...   \n",
       "7  https://images.craigslist.org/00D0D_g4BE3jPMBr...   \n",
       "8  https://images.craigslist.org/00a0a_lTBiptw032...   \n",
       "9  https://images.craigslist.org/00707_9dHoTSYoQn...   \n",
       "\n",
       "                                         description      lat     long  state  \n",
       "0  Apartments In Birmingham AL Welcome to 100 Inv...  33.4226 -86.7065     al  \n",
       "1  Find Your Way to Haven Apartment Homes Come ho...  33.3755 -86.8045     al  \n",
       "2  Apartments In Birmingham AL Welcome to 100 Inv...  33.4226 -86.7065     al  \n",
       "3  Apartments In Birmingham AL Welcome to 100 Inv...  33.4226 -86.7065     al  \n",
       "4  Apartments In Birmingham AL Welcome to 100 Inv...  33.4226 -86.7065     al  \n",
       "5  Apartments In Birmingham AL Welcome to 100 Inv...  33.4226 -86.7065     al  \n",
       "6  Apartments In Birmingham AL Welcome to 100 Inv...  33.4226 -86.7065     al  \n",
       "7  This is a NEW and LARGE 3BR, 2BTH renovation i...  33.0969 -86.7601     al  \n",
       "8  Perfect Location and a Perfect Price!!!  Come ...  33.4237 -86.8015     al  \n",
       "9  HWY 31 and I-65 access for easy commute! Be Do...  33.4237 -86.8015     al  \n",
       "\n",
       "[10 rows x 22 columns]"
      ]
     },
     "execution_count": 3,
     "metadata": {},
     "output_type": "execute_result"
    }
   ],
   "source": [
    "p = pd.read_csv('housing_train.csv')\n",
    "p.head(10) #Displaying 10 rows. If you remove the numeric value it will display the default count of 5 rows."
   ]
  },
  {
   "cell_type": "markdown",
   "id": "d1b41b5a",
   "metadata": {},
   "source": [
    "3. Do some EDA on the dataset"
   ]
  },
  {
   "cell_type": "code",
   "execution_count": 320,
   "id": "0e0cf037",
   "metadata": {},
   "outputs": [
    {
     "name": "stdout",
     "output_type": "stream",
     "text": [
      "<class 'pandas.core.frame.DataFrame'>\n",
      "RangeIndex: 265190 entries, 0 to 265189\n",
      "Data columns (total 22 columns):\n",
      " #   Column                   Non-Null Count   Dtype  \n",
      "---  ------                   --------------   -----  \n",
      " 0   id                       265190 non-null  int64  \n",
      " 1   url                      265190 non-null  object \n",
      " 2   region                   265190 non-null  object \n",
      " 3   region_url               265190 non-null  object \n",
      " 4   price                    265190 non-null  int64  \n",
      " 5   type                     265190 non-null  object \n",
      " 6   sqfeet                   265190 non-null  int64  \n",
      " 7   beds                     265190 non-null  int64  \n",
      " 8   baths                    265190 non-null  float64\n",
      " 9   cats_allowed             265190 non-null  int64  \n",
      " 10  dogs_allowed             265190 non-null  int64  \n",
      " 11  smoking_allowed          265190 non-null  int64  \n",
      " 12  wheelchair_access        265190 non-null  int64  \n",
      " 13  electric_vehicle_charge  265190 non-null  int64  \n",
      " 14  comes_furnished          265190 non-null  int64  \n",
      " 15  laundry_options          210879 non-null  object \n",
      " 16  parking_options          170055 non-null  object \n",
      " 17  image_url                265190 non-null  object \n",
      " 18  description              265188 non-null  object \n",
      " 19  lat                      263771 non-null  float64\n",
      " 20  long                     263771 non-null  float64\n",
      " 21  state                    265189 non-null  object \n",
      "dtypes: float64(3), int64(10), object(9)\n",
      "memory usage: 44.5+ MB\n"
     ]
    }
   ],
   "source": [
    "p.info()"
   ]
  },
  {
   "cell_type": "code",
   "execution_count": 321,
   "id": "84d1d9a6",
   "metadata": {},
   "outputs": [
    {
     "data": {
      "text/html": [
       "<div>\n",
       "<style scoped>\n",
       "    .dataframe tbody tr th:only-of-type {\n",
       "        vertical-align: middle;\n",
       "    }\n",
       "\n",
       "    .dataframe tbody tr th {\n",
       "        vertical-align: top;\n",
       "    }\n",
       "\n",
       "    .dataframe thead th {\n",
       "        text-align: right;\n",
       "    }\n",
       "</style>\n",
       "<table border=\"1\" class=\"dataframe\">\n",
       "  <thead>\n",
       "    <tr style=\"text-align: right;\">\n",
       "      <th></th>\n",
       "      <th>id</th>\n",
       "      <th>price</th>\n",
       "      <th>sqfeet</th>\n",
       "      <th>beds</th>\n",
       "      <th>baths</th>\n",
       "      <th>cats_allowed</th>\n",
       "      <th>dogs_allowed</th>\n",
       "      <th>smoking_allowed</th>\n",
       "      <th>wheelchair_access</th>\n",
       "      <th>electric_vehicle_charge</th>\n",
       "      <th>comes_furnished</th>\n",
       "      <th>lat</th>\n",
       "      <th>long</th>\n",
       "    </tr>\n",
       "  </thead>\n",
       "  <tbody>\n",
       "    <tr>\n",
       "      <th>count</th>\n",
       "      <td>2.651900e+05</td>\n",
       "      <td>2.651900e+05</td>\n",
       "      <td>2.651900e+05</td>\n",
       "      <td>265190.000000</td>\n",
       "      <td>265190.000000</td>\n",
       "      <td>265190.000000</td>\n",
       "      <td>265190.000000</td>\n",
       "      <td>265190.000000</td>\n",
       "      <td>265190.000000</td>\n",
       "      <td>265190.000000</td>\n",
       "      <td>265190.000000</td>\n",
       "      <td>263771.000000</td>\n",
       "      <td>263771.000000</td>\n",
       "    </tr>\n",
       "    <tr>\n",
       "      <th>mean</th>\n",
       "      <td>7.040888e+09</td>\n",
       "      <td>1.227285e+04</td>\n",
       "      <td>1.093678e+03</td>\n",
       "      <td>1.912414</td>\n",
       "      <td>1.483468</td>\n",
       "      <td>0.716822</td>\n",
       "      <td>0.696550</td>\n",
       "      <td>0.733896</td>\n",
       "      <td>0.078759</td>\n",
       "      <td>0.014360</td>\n",
       "      <td>0.048644</td>\n",
       "      <td>37.208855</td>\n",
       "      <td>-92.398149</td>\n",
       "    </tr>\n",
       "    <tr>\n",
       "      <th>std</th>\n",
       "      <td>8.778930e+06</td>\n",
       "      <td>5.376352e+06</td>\n",
       "      <td>2.306888e+04</td>\n",
       "      <td>3.691900</td>\n",
       "      <td>0.630208</td>\n",
       "      <td>0.450543</td>\n",
       "      <td>0.459749</td>\n",
       "      <td>0.441920</td>\n",
       "      <td>0.269362</td>\n",
       "      <td>0.118968</td>\n",
       "      <td>0.215124</td>\n",
       "      <td>5.659648</td>\n",
       "      <td>17.370780</td>\n",
       "    </tr>\n",
       "    <tr>\n",
       "      <th>min</th>\n",
       "      <td>7.003808e+09</td>\n",
       "      <td>0.000000e+00</td>\n",
       "      <td>0.000000e+00</td>\n",
       "      <td>0.000000</td>\n",
       "      <td>0.000000</td>\n",
       "      <td>0.000000</td>\n",
       "      <td>0.000000</td>\n",
       "      <td>0.000000</td>\n",
       "      <td>0.000000</td>\n",
       "      <td>0.000000</td>\n",
       "      <td>0.000000</td>\n",
       "      <td>-43.533300</td>\n",
       "      <td>-163.894000</td>\n",
       "    </tr>\n",
       "    <tr>\n",
       "      <th>25%</th>\n",
       "      <td>7.035963e+09</td>\n",
       "      <td>8.170000e+02</td>\n",
       "      <td>7.520000e+02</td>\n",
       "      <td>1.000000</td>\n",
       "      <td>1.000000</td>\n",
       "      <td>0.000000</td>\n",
       "      <td>0.000000</td>\n",
       "      <td>0.000000</td>\n",
       "      <td>0.000000</td>\n",
       "      <td>0.000000</td>\n",
       "      <td>0.000000</td>\n",
       "      <td>33.508500</td>\n",
       "      <td>-104.704000</td>\n",
       "    </tr>\n",
       "    <tr>\n",
       "      <th>50%</th>\n",
       "      <td>7.043109e+09</td>\n",
       "      <td>1.060000e+03</td>\n",
       "      <td>9.500000e+02</td>\n",
       "      <td>2.000000</td>\n",
       "      <td>1.000000</td>\n",
       "      <td>1.000000</td>\n",
       "      <td>1.000000</td>\n",
       "      <td>1.000000</td>\n",
       "      <td>0.000000</td>\n",
       "      <td>0.000000</td>\n",
       "      <td>0.000000</td>\n",
       "      <td>37.984900</td>\n",
       "      <td>-86.478300</td>\n",
       "    </tr>\n",
       "    <tr>\n",
       "      <th>75%</th>\n",
       "      <td>7.048362e+09</td>\n",
       "      <td>1.450000e+03</td>\n",
       "      <td>1.156000e+03</td>\n",
       "      <td>2.000000</td>\n",
       "      <td>2.000000</td>\n",
       "      <td>1.000000</td>\n",
       "      <td>1.000000</td>\n",
       "      <td>1.000000</td>\n",
       "      <td>0.000000</td>\n",
       "      <td>0.000000</td>\n",
       "      <td>0.000000</td>\n",
       "      <td>41.168400</td>\n",
       "      <td>-81.284600</td>\n",
       "    </tr>\n",
       "    <tr>\n",
       "      <th>max</th>\n",
       "      <td>7.051263e+09</td>\n",
       "      <td>2.768307e+09</td>\n",
       "      <td>8.388607e+06</td>\n",
       "      <td>1100.000000</td>\n",
       "      <td>75.000000</td>\n",
       "      <td>1.000000</td>\n",
       "      <td>1.000000</td>\n",
       "      <td>1.000000</td>\n",
       "      <td>1.000000</td>\n",
       "      <td>1.000000</td>\n",
       "      <td>1.000000</td>\n",
       "      <td>102.036000</td>\n",
       "      <td>172.633000</td>\n",
       "    </tr>\n",
       "  </tbody>\n",
       "</table>\n",
       "</div>"
      ],
      "text/plain": [
       "                 id         price        sqfeet           beds          baths  \\\n",
       "count  2.651900e+05  2.651900e+05  2.651900e+05  265190.000000  265190.000000   \n",
       "mean   7.040888e+09  1.227285e+04  1.093678e+03       1.912414       1.483468   \n",
       "std    8.778930e+06  5.376352e+06  2.306888e+04       3.691900       0.630208   \n",
       "min    7.003808e+09  0.000000e+00  0.000000e+00       0.000000       0.000000   \n",
       "25%    7.035963e+09  8.170000e+02  7.520000e+02       1.000000       1.000000   \n",
       "50%    7.043109e+09  1.060000e+03  9.500000e+02       2.000000       1.000000   \n",
       "75%    7.048362e+09  1.450000e+03  1.156000e+03       2.000000       2.000000   \n",
       "max    7.051263e+09  2.768307e+09  8.388607e+06    1100.000000      75.000000   \n",
       "\n",
       "        cats_allowed   dogs_allowed  smoking_allowed  wheelchair_access  \\\n",
       "count  265190.000000  265190.000000    265190.000000      265190.000000   \n",
       "mean        0.716822       0.696550         0.733896           0.078759   \n",
       "std         0.450543       0.459749         0.441920           0.269362   \n",
       "min         0.000000       0.000000         0.000000           0.000000   \n",
       "25%         0.000000       0.000000         0.000000           0.000000   \n",
       "50%         1.000000       1.000000         1.000000           0.000000   \n",
       "75%         1.000000       1.000000         1.000000           0.000000   \n",
       "max         1.000000       1.000000         1.000000           1.000000   \n",
       "\n",
       "       electric_vehicle_charge  comes_furnished            lat           long  \n",
       "count            265190.000000    265190.000000  263771.000000  263771.000000  \n",
       "mean                  0.014360         0.048644      37.208855     -92.398149  \n",
       "std                   0.118968         0.215124       5.659648      17.370780  \n",
       "min                   0.000000         0.000000     -43.533300    -163.894000  \n",
       "25%                   0.000000         0.000000      33.508500    -104.704000  \n",
       "50%                   0.000000         0.000000      37.984900     -86.478300  \n",
       "75%                   0.000000         0.000000      41.168400     -81.284600  \n",
       "max                   1.000000         1.000000     102.036000     172.633000  "
      ]
     },
     "execution_count": 321,
     "metadata": {},
     "output_type": "execute_result"
    }
   ],
   "source": [
    "p.describe()"
   ]
  },
  {
   "cell_type": "code",
   "execution_count": 322,
   "id": "d472a03d",
   "metadata": {
    "scrolled": true
   },
   "outputs": [
    {
     "data": {
      "text/plain": [
       "(265190, 22)"
      ]
     },
     "execution_count": 322,
     "metadata": {},
     "output_type": "execute_result"
    }
   ],
   "source": [
    "p.shape"
   ]
  },
  {
   "cell_type": "markdown",
   "id": "2646b106",
   "metadata": {},
   "source": [
    "4. Visualization of the dataset"
   ]
  },
  {
   "cell_type": "code",
   "execution_count": 323,
   "id": "666581d6",
   "metadata": {},
   "outputs": [
    {
     "data": {
      "text/plain": [
       "<AxesSubplot:>"
      ]
     },
     "execution_count": 323,
     "metadata": {},
     "output_type": "execute_result"
    },
    {
     "data": {
      "image/png": "[encoded data removed]",
      "text/plain": [
       "<Figure size 1440x720 with 2 Axes>"
      ]
     },
     "metadata": {
      "needs_background": "light"
     },
     "output_type": "display_data"
    }
   ],
   "source": [
    "import seaborn as sns\n",
    "from scipy import stats\n",
    "\n",
    "plt.figure(figsize=(20, 10))\n",
    "corr = p.corr()\n",
    "sns.heatmap(corr.abs(), annot=True)"
   ]
  },
  {
   "cell_type": "markdown",
   "id": "4d877bc4",
   "metadata": {},
   "source": [
    "5. Cleaning of dataset, loading to dataframe and only getting the necessary variables for linear regression."
   ]
  },
  {
   "cell_type": "code",
   "execution_count": 324,
   "id": "a5949a16",
   "metadata": {
    "scrolled": true
   },
   "outputs": [
    {
     "data": {
      "text/plain": [
       "jacksonville              4246\n",
       "rochester                 3677\n",
       "fayetteville              3652\n",
       "omaha / council bluffs    2727\n",
       "denver                    2671\n",
       "                          ... \n",
       "corvallis/albany             3\n",
       "kansas city                  3\n",
       "northwest OK                 2\n",
       "east oregon                  1\n",
       "texoma                       1\n",
       "Name: region, Length: 298, dtype: int64"
      ]
     },
     "execution_count": 324,
     "metadata": {},
     "output_type": "execute_result"
    }
   ],
   "source": [
    "p['region'].value_counts()\n"
   ]
  },
  {
   "cell_type": "code",
   "execution_count": 325,
   "id": "8de89a41",
   "metadata": {
    "scrolled": true
   },
   "outputs": [
    {
     "data": {
      "text/html": [
       "<div>\n",
       "<style scoped>\n",
       "    .dataframe tbody tr th:only-of-type {\n",
       "        vertical-align: middle;\n",
       "    }\n",
       "\n",
       "    .dataframe tbody tr th {\n",
       "        vertical-align: top;\n",
       "    }\n",
       "\n",
       "    .dataframe thead th {\n",
       "        text-align: right;\n",
       "    }\n",
       "</style>\n",
       "<table border=\"1\" class=\"dataframe\">\n",
       "  <thead>\n",
       "    <tr style=\"text-align: right;\">\n",
       "      <th></th>\n",
       "      <th>region</th>\n",
       "      <th>price</th>\n",
       "      <th>sqfeet</th>\n",
       "      <th>beds</th>\n",
       "      <th>baths</th>\n",
       "    </tr>\n",
       "  </thead>\n",
       "  <tbody>\n",
       "    <tr>\n",
       "      <th>0</th>\n",
       "      <td>birmingham</td>\n",
       "      <td>1195</td>\n",
       "      <td>1908</td>\n",
       "      <td>3</td>\n",
       "      <td>2.0</td>\n",
       "    </tr>\n",
       "    <tr>\n",
       "      <th>1</th>\n",
       "      <td>birmingham</td>\n",
       "      <td>1120</td>\n",
       "      <td>1319</td>\n",
       "      <td>3</td>\n",
       "      <td>2.0</td>\n",
       "    </tr>\n",
       "    <tr>\n",
       "      <th>2</th>\n",
       "      <td>birmingham</td>\n",
       "      <td>825</td>\n",
       "      <td>1133</td>\n",
       "      <td>1</td>\n",
       "      <td>1.5</td>\n",
       "    </tr>\n",
       "    <tr>\n",
       "      <th>3</th>\n",
       "      <td>birmingham</td>\n",
       "      <td>800</td>\n",
       "      <td>927</td>\n",
       "      <td>1</td>\n",
       "      <td>1.0</td>\n",
       "    </tr>\n",
       "    <tr>\n",
       "      <th>4</th>\n",
       "      <td>birmingham</td>\n",
       "      <td>785</td>\n",
       "      <td>1047</td>\n",
       "      <td>2</td>\n",
       "      <td>1.0</td>\n",
       "    </tr>\n",
       "  </tbody>\n",
       "</table>\n",
       "</div>"
      ],
      "text/plain": [
       "       region  price  sqfeet  beds  baths\n",
       "0  birmingham   1195    1908     3    2.0\n",
       "1  birmingham   1120    1319     3    2.0\n",
       "2  birmingham    825    1133     1    1.5\n",
       "3  birmingham    800     927     1    1.0\n",
       "4  birmingham    785    1047     2    1.0"
      ]
     },
     "execution_count": 325,
     "metadata": {},
     "output_type": "execute_result"
    }
   ],
   "source": [
    "p[['region','price','sqfeet','beds','baths']].head()"
   ]
  },
  {
   "cell_type": "code",
   "execution_count": 326,
   "id": "4f54fc46",
   "metadata": {
    "scrolled": true
   },
   "outputs": [
    {
     "data": {
      "text/html": [
       "<div>\n",
       "<style scoped>\n",
       "    .dataframe tbody tr th:only-of-type {\n",
       "        vertical-align: middle;\n",
       "    }\n",
       "\n",
       "    .dataframe tbody tr th {\n",
       "        vertical-align: top;\n",
       "    }\n",
       "\n",
       "    .dataframe thead th {\n",
       "        text-align: right;\n",
       "    }\n",
       "</style>\n",
       "<table border=\"1\" class=\"dataframe\">\n",
       "  <thead>\n",
       "    <tr style=\"text-align: right;\">\n",
       "      <th></th>\n",
       "      <th>id</th>\n",
       "      <th>url</th>\n",
       "      <th>region</th>\n",
       "      <th>region_url</th>\n",
       "      <th>price</th>\n",
       "      <th>type</th>\n",
       "      <th>sqfeet</th>\n",
       "      <th>beds</th>\n",
       "      <th>baths</th>\n",
       "      <th>cats_allowed</th>\n",
       "      <th>...</th>\n",
       "      <th>wheelchair_access</th>\n",
       "      <th>electric_vehicle_charge</th>\n",
       "      <th>comes_furnished</th>\n",
       "      <th>laundry_options</th>\n",
       "      <th>parking_options</th>\n",
       "      <th>image_url</th>\n",
       "      <th>description</th>\n",
       "      <th>lat</th>\n",
       "      <th>long</th>\n",
       "      <th>state</th>\n",
       "    </tr>\n",
       "  </thead>\n",
       "  <tbody>\n",
       "    <tr>\n",
       "      <th>0</th>\n",
       "      <td>7039061606</td>\n",
       "      <td>https://bham.craigslist.org/apa/d/birmingham-h...</td>\n",
       "      <td>birmingham</td>\n",
       "      <td>https://bham.craigslist.org</td>\n",
       "      <td>1195</td>\n",
       "      <td>apartment</td>\n",
       "      <td>1908</td>\n",
       "      <td>3</td>\n",
       "      <td>2.0</td>\n",
       "      <td>1</td>\n",
       "      <td>...</td>\n",
       "      <td>0</td>\n",
       "      <td>0</td>\n",
       "      <td>0</td>\n",
       "      <td>laundry on site</td>\n",
       "      <td>street parking</td>\n",
       "      <td>https://images.craigslist.org/00L0L_80pNkyDeG0...</td>\n",
       "      <td>Apartments In Birmingham AL Welcome to 100 Inv...</td>\n",
       "      <td>33.4226</td>\n",
       "      <td>-86.7065</td>\n",
       "      <td>al</td>\n",
       "    </tr>\n",
       "    <tr>\n",
       "      <th>1</th>\n",
       "      <td>7041970863</td>\n",
       "      <td>https://bham.craigslist.org/apa/d/birmingham-w...</td>\n",
       "      <td>birmingham</td>\n",
       "      <td>https://bham.craigslist.org</td>\n",
       "      <td>1120</td>\n",
       "      <td>apartment</td>\n",
       "      <td>1319</td>\n",
       "      <td>3</td>\n",
       "      <td>2.0</td>\n",
       "      <td>1</td>\n",
       "      <td>...</td>\n",
       "      <td>0</td>\n",
       "      <td>0</td>\n",
       "      <td>0</td>\n",
       "      <td>laundry on site</td>\n",
       "      <td>off-street parking</td>\n",
       "      <td>https://images.craigslist.org/00707_uRrY9CsNMC...</td>\n",
       "      <td>Find Your Way to Haven Apartment Homes Come ho...</td>\n",
       "      <td>33.3755</td>\n",
       "      <td>-86.8045</td>\n",
       "      <td>al</td>\n",
       "    </tr>\n",
       "    <tr>\n",
       "      <th>2</th>\n",
       "      <td>7041966914</td>\n",
       "      <td>https://bham.craigslist.org/apa/d/birmingham-g...</td>\n",
       "      <td>birmingham</td>\n",
       "      <td>https://bham.craigslist.org</td>\n",
       "      <td>825</td>\n",
       "      <td>apartment</td>\n",
       "      <td>1133</td>\n",
       "      <td>1</td>\n",
       "      <td>1.5</td>\n",
       "      <td>1</td>\n",
       "      <td>...</td>\n",
       "      <td>0</td>\n",
       "      <td>0</td>\n",
       "      <td>0</td>\n",
       "      <td>laundry on site</td>\n",
       "      <td>street parking</td>\n",
       "      <td>https://images.craigslist.org/00h0h_b7Bdj1NLBi...</td>\n",
       "      <td>Apartments In Birmingham AL Welcome to 100 Inv...</td>\n",
       "      <td>33.4226</td>\n",
       "      <td>-86.7065</td>\n",
       "      <td>al</td>\n",
       "    </tr>\n",
       "    <tr>\n",
       "      <th>3</th>\n",
       "      <td>7041966936</td>\n",
       "      <td>https://bham.craigslist.org/apa/d/birmingham-f...</td>\n",
       "      <td>birmingham</td>\n",
       "      <td>https://bham.craigslist.org</td>\n",
       "      <td>800</td>\n",
       "      <td>apartment</td>\n",
       "      <td>927</td>\n",
       "      <td>1</td>\n",
       "      <td>1.0</td>\n",
       "      <td>1</td>\n",
       "      <td>...</td>\n",
       "      <td>0</td>\n",
       "      <td>0</td>\n",
       "      <td>0</td>\n",
       "      <td>laundry on site</td>\n",
       "      <td>street parking</td>\n",
       "      <td>https://images.craigslist.org/00808_6ghZ8tSRQs...</td>\n",
       "      <td>Apartments In Birmingham AL Welcome to 100 Inv...</td>\n",
       "      <td>33.4226</td>\n",
       "      <td>-86.7065</td>\n",
       "      <td>al</td>\n",
       "    </tr>\n",
       "    <tr>\n",
       "      <th>4</th>\n",
       "      <td>7041966888</td>\n",
       "      <td>https://bham.craigslist.org/apa/d/birmingham-2...</td>\n",
       "      <td>birmingham</td>\n",
       "      <td>https://bham.craigslist.org</td>\n",
       "      <td>785</td>\n",
       "      <td>apartment</td>\n",
       "      <td>1047</td>\n",
       "      <td>2</td>\n",
       "      <td>1.0</td>\n",
       "      <td>1</td>\n",
       "      <td>...</td>\n",
       "      <td>0</td>\n",
       "      <td>0</td>\n",
       "      <td>0</td>\n",
       "      <td>laundry on site</td>\n",
       "      <td>street parking</td>\n",
       "      <td>https://images.craigslist.org/00y0y_21c0FOvUXm...</td>\n",
       "      <td>Apartments In Birmingham AL Welcome to 100 Inv...</td>\n",
       "      <td>33.4226</td>\n",
       "      <td>-86.7065</td>\n",
       "      <td>al</td>\n",
       "    </tr>\n",
       "    <tr>\n",
       "      <th>...</th>\n",
       "      <td>...</td>\n",
       "      <td>...</td>\n",
       "      <td>...</td>\n",
       "      <td>...</td>\n",
       "      <td>...</td>\n",
       "      <td>...</td>\n",
       "      <td>...</td>\n",
       "      <td>...</td>\n",
       "      <td>...</td>\n",
       "      <td>...</td>\n",
       "      <td>...</td>\n",
       "      <td>...</td>\n",
       "      <td>...</td>\n",
       "      <td>...</td>\n",
       "      <td>...</td>\n",
       "      <td>...</td>\n",
       "      <td>...</td>\n",
       "      <td>...</td>\n",
       "      <td>...</td>\n",
       "      <td>...</td>\n",
       "      <td>...</td>\n",
       "    </tr>\n",
       "    <tr>\n",
       "      <th>562</th>\n",
       "      <td>7040683096</td>\n",
       "      <td>https://bham.craigslist.org/apa/d/birmingham-t...</td>\n",
       "      <td>birmingham</td>\n",
       "      <td>https://bham.craigslist.org</td>\n",
       "      <td>835</td>\n",
       "      <td>house</td>\n",
       "      <td>1056</td>\n",
       "      <td>3</td>\n",
       "      <td>1.0</td>\n",
       "      <td>0</td>\n",
       "      <td>...</td>\n",
       "      <td>0</td>\n",
       "      <td>0</td>\n",
       "      <td>0</td>\n",
       "      <td>NaN</td>\n",
       "      <td>NaN</td>\n",
       "      <td>https://images.craigslist.org/00k0k_8A1NMZ7IcX...</td>\n",
       "      <td>If youâre looking to rent a home in the Brid...</td>\n",
       "      <td>33.6493</td>\n",
       "      <td>-86.7057</td>\n",
       "      <td>al</td>\n",
       "    </tr>\n",
       "    <tr>\n",
       "      <th>563</th>\n",
       "      <td>7040682556</td>\n",
       "      <td>https://bham.craigslist.org/apa/d/birmingham-t...</td>\n",
       "      <td>birmingham</td>\n",
       "      <td>https://bham.craigslist.org</td>\n",
       "      <td>925</td>\n",
       "      <td>house</td>\n",
       "      <td>1346</td>\n",
       "      <td>4</td>\n",
       "      <td>2.0</td>\n",
       "      <td>0</td>\n",
       "      <td>...</td>\n",
       "      <td>0</td>\n",
       "      <td>0</td>\n",
       "      <td>0</td>\n",
       "      <td>NaN</td>\n",
       "      <td>NaN</td>\n",
       "      <td>https://images.craigslist.org/00Y0Y_5gBcmkIiqI...</td>\n",
       "      <td>This house is a must see! 4 bedroom 2 bath hom...</td>\n",
       "      <td>33.6493</td>\n",
       "      <td>-86.7057</td>\n",
       "      <td>al</td>\n",
       "    </tr>\n",
       "    <tr>\n",
       "      <th>564</th>\n",
       "      <td>7035298962</td>\n",
       "      <td>https://bham.craigslist.org/apa/d/birmingham-s...</td>\n",
       "      <td>birmingham</td>\n",
       "      <td>https://bham.craigslist.org</td>\n",
       "      <td>715</td>\n",
       "      <td>apartment</td>\n",
       "      <td>906</td>\n",
       "      <td>1</td>\n",
       "      <td>1.0</td>\n",
       "      <td>1</td>\n",
       "      <td>...</td>\n",
       "      <td>0</td>\n",
       "      <td>0</td>\n",
       "      <td>0</td>\n",
       "      <td>laundry on site</td>\n",
       "      <td>NaN</td>\n",
       "      <td>https://images.craigslist.org/00d0d_1bQcPqmtfS...</td>\n",
       "      <td>The Benton offers a private serene setting tha...</td>\n",
       "      <td>33.3942</td>\n",
       "      <td>-86.8025</td>\n",
       "      <td>al</td>\n",
       "    </tr>\n",
       "    <tr>\n",
       "      <th>566</th>\n",
       "      <td>7040672454</td>\n",
       "      <td>https://bham.craigslist.org/apa/d/birmingham-g...</td>\n",
       "      <td>birmingham</td>\n",
       "      <td>https://bham.craigslist.org</td>\n",
       "      <td>960</td>\n",
       "      <td>apartment</td>\n",
       "      <td>1150</td>\n",
       "      <td>2</td>\n",
       "      <td>2.0</td>\n",
       "      <td>1</td>\n",
       "      <td>...</td>\n",
       "      <td>0</td>\n",
       "      <td>0</td>\n",
       "      <td>0</td>\n",
       "      <td>w/d hookups</td>\n",
       "      <td>off-street parking</td>\n",
       "      <td>https://images.craigslist.org/00J0J_7mSGmnR9Pz...</td>\n",
       "      <td>Turtle LakeRENT: $960 - $1007 / MONTH SIZE: 11...</td>\n",
       "      <td>33.3813</td>\n",
       "      <td>-86.7046</td>\n",
       "      <td>al</td>\n",
       "    </tr>\n",
       "    <tr>\n",
       "      <th>567</th>\n",
       "      <td>7034778858</td>\n",
       "      <td>https://bham.craigslist.org/apa/d/birmingham-o...</td>\n",
       "      <td>birmingham</td>\n",
       "      <td>https://bham.craigslist.org</td>\n",
       "      <td>1236</td>\n",
       "      <td>apartment</td>\n",
       "      <td>1285</td>\n",
       "      <td>2</td>\n",
       "      <td>2.0</td>\n",
       "      <td>1</td>\n",
       "      <td>...</td>\n",
       "      <td>1</td>\n",
       "      <td>0</td>\n",
       "      <td>0</td>\n",
       "      <td>w/d hookups</td>\n",
       "      <td>NaN</td>\n",
       "      <td>https://images.craigslist.org/00w0w_dRZCR1SL9c...</td>\n",
       "      <td>Arbors at Cahaba River Apartment Homes  Arbors...</td>\n",
       "      <td>33.4299</td>\n",
       "      <td>-86.7283</td>\n",
       "      <td>al</td>\n",
       "    </tr>\n",
       "  </tbody>\n",
       "</table>\n",
       "<p>558 rows × 22 columns</p>\n",
       "</div>"
      ],
      "text/plain": [
       "             id                                                url  \\\n",
       "0    7039061606  https://bham.craigslist.org/apa/d/birmingham-h...   \n",
       "1    7041970863  https://bham.craigslist.org/apa/d/birmingham-w...   \n",
       "2    7041966914  https://bham.craigslist.org/apa/d/birmingham-g...   \n",
       "3    7041966936  https://bham.craigslist.org/apa/d/birmingham-f...   \n",
       "4    7041966888  https://bham.craigslist.org/apa/d/birmingham-2...   \n",
       "..          ...                                                ...   \n",
       "562  7040683096  https://bham.craigslist.org/apa/d/birmingham-t...   \n",
       "563  7040682556  https://bham.craigslist.org/apa/d/birmingham-t...   \n",
       "564  7035298962  https://bham.craigslist.org/apa/d/birmingham-s...   \n",
       "566  7040672454  https://bham.craigslist.org/apa/d/birmingham-g...   \n",
       "567  7034778858  https://bham.craigslist.org/apa/d/birmingham-o...   \n",
       "\n",
       "         region                   region_url  price       type  sqfeet  beds  \\\n",
       "0    birmingham  https://bham.craigslist.org   1195  apartment    1908     3   \n",
       "1    birmingham  https://bham.craigslist.org   1120  apartment    1319     3   \n",
       "2    birmingham  https://bham.craigslist.org    825  apartment    1133     1   \n",
       "3    birmingham  https://bham.craigslist.org    800  apartment     927     1   \n",
       "4    birmingham  https://bham.craigslist.org    785  apartment    1047     2   \n",
       "..          ...                          ...    ...        ...     ...   ...   \n",
       "562  birmingham  https://bham.craigslist.org    835      house    1056     3   \n",
       "563  birmingham  https://bham.craigslist.org    925      house    1346     4   \n",
       "564  birmingham  https://bham.craigslist.org    715  apartment     906     1   \n",
       "566  birmingham  https://bham.craigslist.org    960  apartment    1150     2   \n",
       "567  birmingham  https://bham.craigslist.org   1236  apartment    1285     2   \n",
       "\n",
       "     baths  cats_allowed  ...  wheelchair_access  electric_vehicle_charge  \\\n",
       "0      2.0             1  ...                  0                        0   \n",
       "1      2.0             1  ...                  0                        0   \n",
       "2      1.5             1  ...                  0                        0   \n",
       "3      1.0             1  ...                  0                        0   \n",
       "4      1.0             1  ...                  0                        0   \n",
       "..     ...           ...  ...                ...                      ...   \n",
       "562    1.0             0  ...                  0                        0   \n",
       "563    2.0             0  ...                  0                        0   \n",
       "564    1.0             1  ...                  0                        0   \n",
       "566    2.0             1  ...                  0                        0   \n",
       "567    2.0             1  ...                  1                        0   \n",
       "\n",
       "     comes_furnished  laundry_options     parking_options  \\\n",
       "0                  0  laundry on site      street parking   \n",
       "1                  0  laundry on site  off-street parking   \n",
       "2                  0  laundry on site      street parking   \n",
       "3                  0  laundry on site      street parking   \n",
       "4                  0  laundry on site      street parking   \n",
       "..               ...              ...                 ...   \n",
       "562                0              NaN                 NaN   \n",
       "563                0              NaN                 NaN   \n",
       "564                0  laundry on site                 NaN   \n",
       "566                0      w/d hookups  off-street parking   \n",
       "567                0      w/d hookups                 NaN   \n",
       "\n",
       "                                             image_url  \\\n",
       "0    https://images.craigslist.org/00L0L_80pNkyDeG0...   \n",
       "1    https://images.craigslist.org/00707_uRrY9CsNMC...   \n",
       "2    https://images.craigslist.org/00h0h_b7Bdj1NLBi...   \n",
       "3    https://images.craigslist.org/00808_6ghZ8tSRQs...   \n",
       "4    https://images.craigslist.org/00y0y_21c0FOvUXm...   \n",
       "..                                                 ...   \n",
       "562  https://images.craigslist.org/00k0k_8A1NMZ7IcX...   \n",
       "563  https://images.craigslist.org/00Y0Y_5gBcmkIiqI...   \n",
       "564  https://images.craigslist.org/00d0d_1bQcPqmtfS...   \n",
       "566  https://images.craigslist.org/00J0J_7mSGmnR9Pz...   \n",
       "567  https://images.craigslist.org/00w0w_dRZCR1SL9c...   \n",
       "\n",
       "                                           description      lat     long  \\\n",
       "0    Apartments In Birmingham AL Welcome to 100 Inv...  33.4226 -86.7065   \n",
       "1    Find Your Way to Haven Apartment Homes Come ho...  33.3755 -86.8045   \n",
       "2    Apartments In Birmingham AL Welcome to 100 Inv...  33.4226 -86.7065   \n",
       "3    Apartments In Birmingham AL Welcome to 100 Inv...  33.4226 -86.7065   \n",
       "4    Apartments In Birmingham AL Welcome to 100 Inv...  33.4226 -86.7065   \n",
       "..                                                 ...      ...      ...   \n",
       "562  If youâre looking to rent a home in the Brid...  33.6493 -86.7057   \n",
       "563  This house is a must see! 4 bedroom 2 bath hom...  33.6493 -86.7057   \n",
       "564  The Benton offers a private serene setting tha...  33.3942 -86.8025   \n",
       "566  Turtle LakeRENT: $960 - $1007 / MONTH SIZE: 11...  33.3813 -86.7046   \n",
       "567  Arbors at Cahaba River Apartment Homes  Arbors...  33.4299 -86.7283   \n",
       "\n",
       "     state  \n",
       "0       al  \n",
       "1       al  \n",
       "2       al  \n",
       "3       al  \n",
       "4       al  \n",
       "..     ...  \n",
       "562     al  \n",
       "563     al  \n",
       "564     al  \n",
       "566     al  \n",
       "567     al  \n",
       "\n",
       "[558 rows x 22 columns]"
      ]
     },
     "execution_count": 326,
     "metadata": {},
     "output_type": "execute_result"
    }
   ],
   "source": [
    "p2=p.loc[p['region']== 'birmingham']\n",
    "p2"
   ]
  },
  {
   "cell_type": "code",
   "execution_count": 327,
   "id": "a015e903",
   "metadata": {
    "scrolled": true
   },
   "outputs": [],
   "source": [
    "p_2=p2[['region','price','sqfeet','beds','baths']].head(20)"
   ]
  },
  {
   "cell_type": "code",
   "execution_count": 328,
   "id": "bc080944",
   "metadata": {},
   "outputs": [
    {
     "data": {
      "text/plain": [
       "(20, 5)"
      ]
     },
     "execution_count": 328,
     "metadata": {},
     "output_type": "execute_result"
    }
   ],
   "source": [
    "p_2.shape"
   ]
  },
  {
   "cell_type": "markdown",
   "id": "6c05388f",
   "metadata": {},
   "source": [
    "#### Part 2: Linear Regression"
   ]
  },
  {
   "cell_type": "markdown",
   "id": "97d7ccdf",
   "metadata": {},
   "source": [
    "1. Determining the value of X and y"
   ]
  },
  {
   "cell_type": "code",
   "execution_count": 329,
   "id": "5d8308e0",
   "metadata": {},
   "outputs": [],
   "source": [
    "X = p_2[['sqfeet']]\n",
    "y = p_2 ['price']"
   ]
  },
  {
   "cell_type": "code",
   "execution_count": 330,
   "id": "0bb78590",
   "metadata": {},
   "outputs": [
    {
     "data": {
      "text/plain": [
       "array([[1908],\n",
       "       [1319],\n",
       "       [1133],\n",
       "       [ 927],\n",
       "       [1047],\n",
       "       [1298],\n",
       "       [1350],\n",
       "       [2308],\n",
       "       [1156],\n",
       "       [ 703],\n",
       "       [1050],\n",
       "       [1375],\n",
       "       [1319],\n",
       "       [ 672],\n",
       "       [1100],\n",
       "       [1285],\n",
       "       [1100],\n",
       "       [ 851],\n",
       "       [ 851],\n",
       "       [1908]], dtype=int64)"
      ]
     },
     "execution_count": 330,
     "metadata": {},
     "output_type": "execute_result"
    }
   ],
   "source": [
    "X.values[:20] #Showing the values of the independent (X_insurance) variable"
   ]
  },
  {
   "cell_type": "code",
   "execution_count": 331,
   "id": "436a162d",
   "metadata": {},
   "outputs": [
    {
     "data": {
      "text/plain": [
       "array([1195, 1120,  825,  800,  785,  900,  925, 1085, 1269,  799,  890,\n",
       "       1355, 1120,  685, 1060, 1236, 1100,  870,  815, 1195], dtype=int64)"
      ]
     },
     "execution_count": 331,
     "metadata": {},
     "output_type": "execute_result"
    }
   ],
   "source": [
    "y.values[:20] #Showing the values of the dependent (y_insurance) variable"
   ]
  },
  {
   "cell_type": "markdown",
   "id": "056298b2",
   "metadata": {},
   "source": [
    "2. Creating an instance of the model and train it using the fit method"
   ]
  },
  {
   "cell_type": "code",
   "execution_count": 332,
   "id": "001e1bb8",
   "metadata": {},
   "outputs": [
    {
     "data": {
      "text/plain": [
       "LinearRegression()"
      ]
     },
     "execution_count": 332,
     "metadata": {},
     "output_type": "execute_result"
    }
   ],
   "source": [
    "model = LinearRegression()\n",
    "model.fit(X,y)"
   ]
  },
  {
   "cell_type": "markdown",
   "id": "0574224a",
   "metadata": {},
   "source": [
    "3. Preview of the model parameters"
   ]
  },
  {
   "cell_type": "code",
   "execution_count": 333,
   "id": "2b2f5844",
   "metadata": {},
   "outputs": [
    {
     "data": {
      "text/plain": [
       "648.3102818663422"
      ]
     },
     "execution_count": 333,
     "metadata": {},
     "output_type": "execute_result"
    }
   ],
   "source": [
    "model.intercept_"
   ]
  },
  {
   "cell_type": "code",
   "execution_count": 334,
   "id": "d63ed60c",
   "metadata": {},
   "outputs": [
    {
     "data": {
      "text/plain": [
       "array([0.28640691])"
      ]
     },
     "execution_count": 334,
     "metadata": {},
     "output_type": "execute_result"
    }
   ],
   "source": [
    "model.coef_"
   ]
  },
  {
   "cell_type": "markdown",
   "id": "ce073879",
   "metadata": {},
   "source": [
    "4. Data Prediction and Data Visualization"
   ]
  },
  {
   "cell_type": "code",
   "execution_count": 335,
   "id": "84c526be",
   "metadata": {},
   "outputs": [
    {
     "data": {
      "text/plain": [
       "<seaborn.axisgrid.JointGrid at 0x14b8be79d60>"
      ]
     },
     "execution_count": 335,
     "metadata": {},
     "output_type": "execute_result"
    },
    {
     "data": {
      "image/png": "[encoded data removed]",
      "text/plain": [
       "<Figure size 432x432 with 3 Axes>"
      ]
     },
     "metadata": {
      "needs_background": "light"
     },
     "output_type": "display_data"
    }
   ],
   "source": [
    "sns.jointplot(x=p_2.sqfeet, y=p_2.price)"
   ]
  },
  {
   "cell_type": "code",
   "execution_count": 336,
   "id": "c63b8daa",
   "metadata": {},
   "outputs": [
    {
     "data": {
      "text/plain": [
       "<seaborn.axisgrid.FacetGrid at 0x14b8bbb6e20>"
      ]
     },
     "execution_count": 336,
     "metadata": {},
     "output_type": "execute_result"
    },
    {
     "data": {
      "image/png": "[encoded data removed]",
      "text/plain": [
       "<Figure size 360x360 with 1 Axes>"
      ]
     },
     "metadata": {
      "needs_background": "light"
     },
     "output_type": "display_data"
    }
   ],
   "source": [
    "sns.lmplot(x='sqfeet', y='price', data=p_2)"
   ]
  },
  {
   "cell_type": "code",
   "execution_count": 337,
   "id": "e1548a7d",
   "metadata": {},
   "outputs": [
    {
     "data": {
      "text/plain": [
       "array([[2000],\n",
       "       [1720]])"
      ]
     },
     "execution_count": 337,
     "metadata": {},
     "output_type": "execute_result"
    }
   ],
   "source": [
    "pd = np.array([[2000], [1720]])\n",
    "pd"
   ]
  },
  {
   "cell_type": "code",
   "execution_count": 338,
   "id": "edd3941d",
   "metadata": {},
   "outputs": [
    {
     "data": {
      "text/plain": [
       "array([1221.12409879, 1140.93016442])"
      ]
     },
     "execution_count": 338,
     "metadata": {},
     "output_type": "execute_result"
    }
   ],
   "source": [
    "model.predict(pd)"
   ]
  },
  {
   "cell_type": "markdown",
   "id": "eed5425c",
   "metadata": {},
   "source": [
    "# Multivariable Linear Regression"
   ]
  },
  {
   "cell_type": "markdown",
   "id": "e445e0fb",
   "metadata": {},
   "source": [
    "This part presents how a multiple linear regression can be used. The data used is the Housing Rent Dataset `housing_rent`. This dataset contains information collected by `Samprati Kothari` by scraping the cragigslist website, concerning the rent in different regions in US. "
   ]
  },
  {
   "cell_type": "markdown",
   "id": "d7f0516f",
   "metadata": {},
   "source": [
    "source: https://www.kaggle.com/samprati97/housing-rent-dataset?select=housing_train.csv"
   ]
  },
  {
   "cell_type": "markdown",
   "id": "16e180f8",
   "metadata": {},
   "source": [
    "### Main Question"
   ]
  },
  {
   "cell_type": "markdown",
   "id": "21096023",
   "metadata": {},
   "source": [
    "How can we predict the rent prices in Birmingham using the `housing_rent` dataset? "
   ]
  },
  {
   "cell_type": "markdown",
   "id": "bc66548b",
   "metadata": {},
   "source": [
    "1. In this part, the necessary libraries has been imported and the dataset has been converted into dataframe. We will also follow the steps in creating a regression line."
   ]
  },
  {
   "cell_type": "code",
   "execution_count": 339,
   "id": "beee1696",
   "metadata": {},
   "outputs": [
    {
     "data": {
      "text/html": [
       "<div>\n",
       "<style scoped>\n",
       "    .dataframe tbody tr th:only-of-type {\n",
       "        vertical-align: middle;\n",
       "    }\n",
       "\n",
       "    .dataframe tbody tr th {\n",
       "        vertical-align: top;\n",
       "    }\n",
       "\n",
       "    .dataframe thead th {\n",
       "        text-align: right;\n",
       "    }\n",
       "</style>\n",
       "<table border=\"1\" class=\"dataframe\">\n",
       "  <thead>\n",
       "    <tr style=\"text-align: right;\">\n",
       "      <th></th>\n",
       "      <th>region</th>\n",
       "      <th>price</th>\n",
       "      <th>sqfeet</th>\n",
       "      <th>beds</th>\n",
       "      <th>baths</th>\n",
       "    </tr>\n",
       "  </thead>\n",
       "  <tbody>\n",
       "    <tr>\n",
       "      <th>0</th>\n",
       "      <td>birmingham</td>\n",
       "      <td>1195</td>\n",
       "      <td>1908</td>\n",
       "      <td>3</td>\n",
       "      <td>2.0</td>\n",
       "    </tr>\n",
       "    <tr>\n",
       "      <th>1</th>\n",
       "      <td>birmingham</td>\n",
       "      <td>1120</td>\n",
       "      <td>1319</td>\n",
       "      <td>3</td>\n",
       "      <td>2.0</td>\n",
       "    </tr>\n",
       "    <tr>\n",
       "      <th>2</th>\n",
       "      <td>birmingham</td>\n",
       "      <td>825</td>\n",
       "      <td>1133</td>\n",
       "      <td>1</td>\n",
       "      <td>1.5</td>\n",
       "    </tr>\n",
       "    <tr>\n",
       "      <th>3</th>\n",
       "      <td>birmingham</td>\n",
       "      <td>800</td>\n",
       "      <td>927</td>\n",
       "      <td>1</td>\n",
       "      <td>1.0</td>\n",
       "    </tr>\n",
       "    <tr>\n",
       "      <th>4</th>\n",
       "      <td>birmingham</td>\n",
       "      <td>785</td>\n",
       "      <td>1047</td>\n",
       "      <td>2</td>\n",
       "      <td>1.0</td>\n",
       "    </tr>\n",
       "  </tbody>\n",
       "</table>\n",
       "</div>"
      ],
      "text/plain": [
       "       region  price  sqfeet  beds  baths\n",
       "0  birmingham   1195    1908     3    2.0\n",
       "1  birmingham   1120    1319     3    2.0\n",
       "2  birmingham    825    1133     1    1.5\n",
       "3  birmingham    800     927     1    1.0\n",
       "4  birmingham    785    1047     2    1.0"
      ]
     },
     "execution_count": 339,
     "metadata": {},
     "output_type": "execute_result"
    }
   ],
   "source": [
    "p_2.head()"
   ]
  },
  {
   "cell_type": "markdown",
   "id": "cb16b0a3",
   "metadata": {},
   "source": [
    "2. Do some EDA on the dataset"
   ]
  },
  {
   "cell_type": "code",
   "execution_count": 340,
   "id": "f1addd3f",
   "metadata": {},
   "outputs": [
    {
     "name": "stdout",
     "output_type": "stream",
     "text": [
      "<class 'pandas.core.frame.DataFrame'>\n",
      "Int64Index: 20 entries, 0 to 19\n",
      "Data columns (total 5 columns):\n",
      " #   Column  Non-Null Count  Dtype  \n",
      "---  ------  --------------  -----  \n",
      " 0   region  20 non-null     object \n",
      " 1   price   20 non-null     int64  \n",
      " 2   sqfeet  20 non-null     int64  \n",
      " 3   beds    20 non-null     int64  \n",
      " 4   baths   20 non-null     float64\n",
      "dtypes: float64(1), int64(3), object(1)\n",
      "memory usage: 1.5+ KB\n"
     ]
    }
   ],
   "source": [
    "p_2.info()"
   ]
  },
  {
   "cell_type": "code",
   "execution_count": 341,
   "id": "93f69b32",
   "metadata": {},
   "outputs": [
    {
     "data": {
      "text/html": [
       "<div>\n",
       "<style scoped>\n",
       "    .dataframe tbody tr th:only-of-type {\n",
       "        vertical-align: middle;\n",
       "    }\n",
       "\n",
       "    .dataframe tbody tr th {\n",
       "        vertical-align: top;\n",
       "    }\n",
       "\n",
       "    .dataframe thead th {\n",
       "        text-align: right;\n",
       "    }\n",
       "</style>\n",
       "<table border=\"1\" class=\"dataframe\">\n",
       "  <thead>\n",
       "    <tr style=\"text-align: right;\">\n",
       "      <th></th>\n",
       "      <th>region</th>\n",
       "      <th>price</th>\n",
       "      <th>sqfeet</th>\n",
       "      <th>beds</th>\n",
       "      <th>baths</th>\n",
       "    </tr>\n",
       "  </thead>\n",
       "  <tbody>\n",
       "    <tr>\n",
       "      <th>count</th>\n",
       "      <td>20</td>\n",
       "      <td>20.00000</td>\n",
       "      <td>20.000000</td>\n",
       "      <td>20.000000</td>\n",
       "      <td>20.000000</td>\n",
       "    </tr>\n",
       "    <tr>\n",
       "      <th>unique</th>\n",
       "      <td>1</td>\n",
       "      <td>NaN</td>\n",
       "      <td>NaN</td>\n",
       "      <td>NaN</td>\n",
       "      <td>NaN</td>\n",
       "    </tr>\n",
       "    <tr>\n",
       "      <th>top</th>\n",
       "      <td>birmingham</td>\n",
       "      <td>NaN</td>\n",
       "      <td>NaN</td>\n",
       "      <td>NaN</td>\n",
       "      <td>NaN</td>\n",
       "    </tr>\n",
       "    <tr>\n",
       "      <th>freq</th>\n",
       "      <td>20</td>\n",
       "      <td>NaN</td>\n",
       "      <td>NaN</td>\n",
       "      <td>NaN</td>\n",
       "      <td>NaN</td>\n",
       "    </tr>\n",
       "    <tr>\n",
       "      <th>mean</th>\n",
       "      <td>NaN</td>\n",
       "      <td>1001.45000</td>\n",
       "      <td>1233.000000</td>\n",
       "      <td>2.100000</td>\n",
       "      <td>1.675000</td>\n",
       "    </tr>\n",
       "    <tr>\n",
       "      <th>std</th>\n",
       "      <td>NaN</td>\n",
       "      <td>193.99416</td>\n",
       "      <td>411.860094</td>\n",
       "      <td>0.788069</td>\n",
       "      <td>0.466651</td>\n",
       "    </tr>\n",
       "    <tr>\n",
       "      <th>min</th>\n",
       "      <td>NaN</td>\n",
       "      <td>685.00000</td>\n",
       "      <td>672.000000</td>\n",
       "      <td>1.000000</td>\n",
       "      <td>1.000000</td>\n",
       "    </tr>\n",
       "    <tr>\n",
       "      <th>25%</th>\n",
       "      <td>NaN</td>\n",
       "      <td>822.50000</td>\n",
       "      <td>1017.000000</td>\n",
       "      <td>1.750000</td>\n",
       "      <td>1.000000</td>\n",
       "    </tr>\n",
       "    <tr>\n",
       "      <th>50%</th>\n",
       "      <td>NaN</td>\n",
       "      <td>992.50000</td>\n",
       "      <td>1144.500000</td>\n",
       "      <td>2.000000</td>\n",
       "      <td>2.000000</td>\n",
       "    </tr>\n",
       "    <tr>\n",
       "      <th>75%</th>\n",
       "      <td>NaN</td>\n",
       "      <td>1138.75000</td>\n",
       "      <td>1326.750000</td>\n",
       "      <td>3.000000</td>\n",
       "      <td>2.000000</td>\n",
       "    </tr>\n",
       "    <tr>\n",
       "      <th>max</th>\n",
       "      <td>NaN</td>\n",
       "      <td>1355.00000</td>\n",
       "      <td>2308.000000</td>\n",
       "      <td>3.000000</td>\n",
       "      <td>2.000000</td>\n",
       "    </tr>\n",
       "  </tbody>\n",
       "</table>\n",
       "</div>"
      ],
      "text/plain": [
       "            region       price       sqfeet       beds      baths\n",
       "count           20    20.00000    20.000000  20.000000  20.000000\n",
       "unique           1         NaN          NaN        NaN        NaN\n",
       "top     birmingham         NaN          NaN        NaN        NaN\n",
       "freq            20         NaN          NaN        NaN        NaN\n",
       "mean           NaN  1001.45000  1233.000000   2.100000   1.675000\n",
       "std            NaN   193.99416   411.860094   0.788069   0.466651\n",
       "min            NaN   685.00000   672.000000   1.000000   1.000000\n",
       "25%            NaN   822.50000  1017.000000   1.750000   1.000000\n",
       "50%            NaN   992.50000  1144.500000   2.000000   2.000000\n",
       "75%            NaN  1138.75000  1326.750000   3.000000   2.000000\n",
       "max            NaN  1355.00000  2308.000000   3.000000   2.000000"
      ]
     },
     "execution_count": 341,
     "metadata": {},
     "output_type": "execute_result"
    }
   ],
   "source": [
    "p_2.describe(include=\"all\")"
   ]
  },
  {
   "cell_type": "markdown",
   "id": "c1ecfbce",
   "metadata": {},
   "source": [
    "3. Defining the X and y variables"
   ]
  },
  {
   "cell_type": "code",
   "execution_count": 342,
   "id": "ab80376f",
   "metadata": {},
   "outputs": [],
   "source": [
    "X = p_2[['sqfeet', 'beds', 'baths']]\n",
    "y = p_2['price']"
   ]
  },
  {
   "cell_type": "code",
   "execution_count": 343,
   "id": "f76998c4",
   "metadata": {},
   "outputs": [
    {
     "data": {
      "text/plain": [
       "array([[1.908e+03, 3.000e+00, 2.000e+00],\n",
       "       [1.319e+03, 3.000e+00, 2.000e+00],\n",
       "       [1.133e+03, 1.000e+00, 1.500e+00],\n",
       "       [9.270e+02, 1.000e+00, 1.000e+00],\n",
       "       [1.047e+03, 2.000e+00, 1.000e+00],\n",
       "       [1.298e+03, 2.000e+00, 2.000e+00],\n",
       "       [1.350e+03, 2.000e+00, 2.000e+00],\n",
       "       [2.308e+03, 3.000e+00, 2.000e+00],\n",
       "       [1.156e+03, 3.000e+00, 2.000e+00],\n",
       "       [7.030e+02, 1.000e+00, 1.000e+00],\n",
       "       [1.050e+03, 2.000e+00, 2.000e+00],\n",
       "       [1.375e+03, 3.000e+00, 2.000e+00],\n",
       "       [1.319e+03, 3.000e+00, 2.000e+00],\n",
       "       [6.720e+02, 2.000e+00, 1.000e+00],\n",
       "       [1.100e+03, 2.000e+00, 2.000e+00],\n",
       "       [1.285e+03, 2.000e+00, 2.000e+00],\n",
       "       [1.100e+03, 2.000e+00, 2.000e+00],\n",
       "       [8.510e+02, 1.000e+00, 1.000e+00],\n",
       "       [8.510e+02, 1.000e+00, 1.000e+00],\n",
       "       [1.908e+03, 3.000e+00, 2.000e+00]])"
      ]
     },
     "execution_count": 343,
     "metadata": {},
     "output_type": "execute_result"
    }
   ],
   "source": [
    "X.values[:20] #Showing the values of the independent (X_insurance) variable"
   ]
  },
  {
   "cell_type": "code",
   "execution_count": 344,
   "id": "fd6c9958",
   "metadata": {},
   "outputs": [
    {
     "data": {
      "text/plain": [
       "array([1195, 1120,  825,  800,  785,  900,  925, 1085, 1269,  799,  890,\n",
       "       1355, 1120,  685, 1060, 1236, 1100,  870,  815, 1195], dtype=int64)"
      ]
     },
     "execution_count": 344,
     "metadata": {},
     "output_type": "execute_result"
    }
   ],
   "source": [
    "y.values[:20] #Showing the values of the dependent (y_insurance) variable"
   ]
  },
  {
   "cell_type": "markdown",
   "id": "3ca73a62",
   "metadata": {},
   "source": [
    "4. Accessing the coefficients."
   ]
  },
  {
   "cell_type": "code",
   "execution_count": 345,
   "id": "4055306c",
   "metadata": {},
   "outputs": [
    {
     "data": {
      "text/plain": [
       "LinearRegression()"
      ]
     },
     "execution_count": 345,
     "metadata": {},
     "output_type": "execute_result"
    }
   ],
   "source": [
    "model = LinearRegression()\n",
    "model.fit(X, y)"
   ]
  },
  {
   "cell_type": "code",
   "execution_count": 346,
   "id": "737f911e",
   "metadata": {},
   "outputs": [
    {
     "data": {
      "text/plain": [
       "455.7094174641345"
      ]
     },
     "execution_count": 346,
     "metadata": {},
     "output_type": "execute_result"
    }
   ],
   "source": [
    "model.intercept_"
   ]
  },
  {
   "cell_type": "code",
   "execution_count": 347,
   "id": "df285798",
   "metadata": {},
   "outputs": [
    {
     "data": {
      "text/plain": [
       "array([2.01771894e-03, 1.02558520e+02, 1.95749160e+02])"
      ]
     },
     "execution_count": 347,
     "metadata": {},
     "output_type": "execute_result"
    }
   ],
   "source": [
    "model.coef_"
   ]
  },
  {
   "cell_type": "markdown",
   "id": "502e32a6",
   "metadata": {},
   "source": [
    "5. Training the model"
   ]
  },
  {
   "cell_type": "code",
   "execution_count": 348,
   "id": "dd10c0be",
   "metadata": {},
   "outputs": [],
   "source": [
    "predict_data = np.array([[2000, 3, 2], [1200, 2, 1]])"
   ]
  },
  {
   "cell_type": "code",
   "execution_count": 349,
   "id": "707c5326",
   "metadata": {},
   "outputs": [
    {
     "data": {
      "text/plain": [
       "array([[2000,    3,    2],\n",
       "       [1200,    2,    1]])"
      ]
     },
     "execution_count": 349,
     "metadata": {},
     "output_type": "execute_result"
    }
   ],
   "source": [
    "predict_data"
   ]
  },
  {
   "cell_type": "markdown",
   "id": "865eac49",
   "metadata": {},
   "source": [
    "6. We can see that the first one should cost USD 1158.91, while the second - USD 858.99. The predicted result is very much close to the actual data."
   ]
  },
  {
   "cell_type": "code",
   "execution_count": 350,
   "id": "22ba2493",
   "metadata": {},
   "outputs": [
    {
     "data": {
      "text/plain": [
       "array([1158.91873542,  858.99688021])"
      ]
     },
     "execution_count": 350,
     "metadata": {},
     "output_type": "execute_result"
    }
   ],
   "source": [
    "model.predict(predict_data)"
   ]
  },
  {
   "cell_type": "markdown",
   "id": "e56f9d12",
   "metadata": {},
   "source": [
    "# Polynomial regression"
   ]
  },
  {
   "cell_type": "markdown",
   "id": "ad625b7d",
   "metadata": {},
   "source": [
    "1. The necessary libraries have been imported at this point except for the class responsible for data transformation into a polynomial form so we have to import it. We will also follow the steps in creating a regression line."
   ]
  },
  {
   "cell_type": "code",
   "execution_count": 351,
   "id": "9541640f",
   "metadata": {},
   "outputs": [],
   "source": [
    "from sklearn.preprocessing import PolynomialFeatures"
   ]
  },
  {
   "cell_type": "markdown",
   "id": "22560dd9",
   "metadata": {},
   "source": [
    "2. We load the data and define X and y."
   ]
  },
  {
   "cell_type": "code",
   "execution_count": 352,
   "id": "b6824ddc",
   "metadata": {},
   "outputs": [],
   "source": [
    "X = p_2[['sqfeet']]\n",
    "y = p_2['price']"
   ]
  },
  {
   "cell_type": "code",
   "execution_count": 353,
   "id": "01108a3b",
   "metadata": {},
   "outputs": [
    {
     "data": {
      "text/plain": [
       "array([[1908],\n",
       "       [1319],\n",
       "       [1133],\n",
       "       [ 927],\n",
       "       [1047],\n",
       "       [1298],\n",
       "       [1350],\n",
       "       [2308],\n",
       "       [1156],\n",
       "       [ 703],\n",
       "       [1050],\n",
       "       [1375],\n",
       "       [1319],\n",
       "       [ 672],\n",
       "       [1100],\n",
       "       [1285],\n",
       "       [1100],\n",
       "       [ 851],\n",
       "       [ 851],\n",
       "       [1908]], dtype=int64)"
      ]
     },
     "execution_count": 353,
     "metadata": {},
     "output_type": "execute_result"
    }
   ],
   "source": [
    "X.values #Showing the values of the independent (X_insurance) variable"
   ]
  },
  {
   "cell_type": "code",
   "execution_count": 354,
   "id": "c30a00e2",
   "metadata": {},
   "outputs": [
    {
     "data": {
      "text/plain": [
       "array([1195, 1120,  825,  800,  785,  900,  925, 1085, 1269,  799,  890,\n",
       "       1355, 1120,  685, 1060, 1236, 1100,  870,  815, 1195], dtype=int64)"
      ]
     },
     "execution_count": 354,
     "metadata": {},
     "output_type": "execute_result"
    }
   ],
   "source": [
    "y.values #Showing the values of the dependent (y_insurance) variable"
   ]
  },
  {
   "cell_type": "markdown",
   "id": "c3814c4e",
   "metadata": {},
   "source": [
    "3. Transforming the input with fit_transform command."
   ]
  },
  {
   "cell_type": "code",
   "execution_count": 355,
   "id": "9ebcf98e",
   "metadata": {},
   "outputs": [],
   "source": [
    "poly = PolynomialFeatures(degree=3)\n",
    "X_poly = poly.fit_transform(X)"
   ]
  },
  {
   "cell_type": "code",
   "execution_count": 356,
   "id": "7ad630f7",
   "metadata": {},
   "outputs": [
    {
     "data": {
      "text/plain": [
       "array([[1.00000000e+00, 1.90800000e+03, 3.64046400e+06, 6.94600531e+09],\n",
       "       [1.00000000e+00, 1.31900000e+03, 1.73976100e+06, 2.29474476e+09],\n",
       "       [1.00000000e+00, 1.13300000e+03, 1.28368900e+06, 1.45441964e+09],\n",
       "       [1.00000000e+00, 9.27000000e+02, 8.59329000e+05, 7.96597983e+08],\n",
       "       [1.00000000e+00, 1.04700000e+03, 1.09620900e+06, 1.14773082e+09]])"
      ]
     },
     "execution_count": 356,
     "metadata": {},
     "output_type": "execute_result"
    }
   ],
   "source": [
    "X_poly[:5]"
   ]
  },
  {
   "cell_type": "markdown",
   "id": "810c6458",
   "metadata": {},
   "source": [
    "4. Passing the data to the model, we use the result of the transformation."
   ]
  },
  {
   "cell_type": "code",
   "execution_count": 358,
   "id": "24842909",
   "metadata": {},
   "outputs": [
    {
     "data": {
      "text/plain": [
       "LinearRegression()"
      ]
     },
     "execution_count": 358,
     "metadata": {},
     "output_type": "execute_result"
    }
   ],
   "source": [
    "model = LinearRegression()\n",
    "model.fit(X_poly, y)"
   ]
  },
  {
   "cell_type": "code",
   "execution_count": 43,
   "id": "da5f404b",
   "metadata": {},
   "outputs": [
    {
     "data": {
      "text/plain": [
       "273.2176041606558"
      ]
     },
     "execution_count": 43,
     "metadata": {},
     "output_type": "execute_result"
    }
   ],
   "source": [
    "model.intercept_"
   ]
  },
  {
   "cell_type": "code",
   "execution_count": 44,
   "id": "246702fb",
   "metadata": {},
   "outputs": [
    {
     "data": {
      "text/plain": [
       "array([ 0.00000000e+00,  5.24447838e-01,  2.87844726e-04, -1.58454213e-07])"
      ]
     },
     "execution_count": 44,
     "metadata": {},
     "output_type": "execute_result"
    }
   ],
   "source": [
    "model.coef_"
   ]
  },
  {
   "cell_type": "markdown",
   "id": "0ccc6b2a",
   "metadata": {},
   "source": [
    "5. Transforming first the input data with the transform method."
   ]
  },
  {
   "cell_type": "code",
   "execution_count": 359,
   "id": "33e13c52",
   "metadata": {},
   "outputs": [],
   "source": [
    "predict_data = np.array([[2000], [1500]])"
   ]
  },
  {
   "cell_type": "code",
   "execution_count": 360,
   "id": "39150af0",
   "metadata": {},
   "outputs": [
    {
     "data": {
      "text/plain": [
       "array([[2000],\n",
       "       [1500]])"
      ]
     },
     "execution_count": 360,
     "metadata": {},
     "output_type": "execute_result"
    }
   ],
   "source": [
    "predict_data"
   ]
  },
  {
   "cell_type": "code",
   "execution_count": 361,
   "id": "165a889f",
   "metadata": {},
   "outputs": [],
   "source": [
    "predict_data_poly = poly.transform(predict_data)"
   ]
  },
  {
   "cell_type": "code",
   "execution_count": 362,
   "id": "77011240",
   "metadata": {},
   "outputs": [
    {
     "data": {
      "text/plain": [
       "array([[1.000e+00, 2.000e+03, 4.000e+06, 8.000e+09],\n",
       "       [1.000e+00, 1.500e+03, 2.250e+06, 3.375e+09]])"
      ]
     },
     "execution_count": 362,
     "metadata": {},
     "output_type": "execute_result"
    }
   ],
   "source": [
    "predict_data_poly"
   ]
  },
  {
   "cell_type": "markdown",
   "id": "89195784",
   "metadata": {},
   "source": [
    "6. Finally, we make predictions, providing the appropriate data.\n"
   ]
  },
  {
   "cell_type": "code",
   "execution_count": 363,
   "id": "71457c19",
   "metadata": {},
   "outputs": [
    {
     "data": {
      "text/plain": [
       "array([1205.85847785, 1172.75702502])"
      ]
     },
     "execution_count": 363,
     "metadata": {},
     "output_type": "execute_result"
    }
   ],
   "source": [
    "model.predict(predict_data_poly)"
   ]
  },
  {
   "cell_type": "markdown",
   "id": "93b3298f",
   "metadata": {},
   "source": [
    "# Decision Tree"
   ]
  },
  {
   "cell_type": "markdown",
   "id": "8ed64695",
   "metadata": {},
   "source": [
    "Importing the necessary libraries and data loading into the dataframe."
   ]
  },
  {
   "cell_type": "code",
   "execution_count": 364,
   "id": "8963674e",
   "metadata": {},
   "outputs": [],
   "source": [
    "from sklearn.tree import DecisionTreeRegressor"
   ]
  },
  {
   "cell_type": "markdown",
   "id": "e8191e0b",
   "metadata": {},
   "source": [
    "Creating the variables X and y."
   ]
  },
  {
   "cell_type": "code",
   "execution_count": 365,
   "id": "3ab79115",
   "metadata": {},
   "outputs": [],
   "source": [
    "X = p_2[['sqfeet', 'beds','baths']]\n",
    "y= p_2['price']"
   ]
  },
  {
   "cell_type": "markdown",
   "id": "56e501d1",
   "metadata": {},
   "source": [
    "Creating an instance of the model and train it using the fit method."
   ]
  },
  {
   "cell_type": "code",
   "execution_count": 366,
   "id": "3ba9eb48",
   "metadata": {},
   "outputs": [
    {
     "data": {
      "text/plain": [
       "DecisionTreeRegressor()"
      ]
     },
     "execution_count": 366,
     "metadata": {},
     "output_type": "execute_result"
    }
   ],
   "source": [
    "model = DecisionTreeRegressor()\n",
    "model.fit(X, y)"
   ]
  },
  {
   "cell_type": "markdown",
   "id": "e461e046",
   "metadata": {},
   "source": [
    "Data prediction. Finally, we can find out how much they should cost."
   ]
  },
  {
   "cell_type": "code",
   "execution_count": 367,
   "id": "5ce47a95",
   "metadata": {},
   "outputs": [
    {
     "data": {
      "text/plain": [
       "array([[1500,    2,    2]])"
      ]
     },
     "execution_count": 367,
     "metadata": {},
     "output_type": "execute_result"
    }
   ],
   "source": [
    "pred = np.array([[1500, 2 , 2]])\n",
    "pred"
   ]
  },
  {
   "cell_type": "code",
   "execution_count": 368,
   "id": "686e25db",
   "metadata": {},
   "outputs": [
    {
     "data": {
      "text/plain": [
       "array([925.])"
      ]
     },
     "execution_count": 368,
     "metadata": {},
     "output_type": "execute_result"
    }
   ],
   "source": [
    "model.predict(pred)"
   ]
  },
  {
   "cell_type": "markdown",
   "id": "b5a625e1",
   "metadata": {},
   "source": [
    "# Model Evaluation"
   ]
  },
  {
   "cell_type": "markdown",
   "id": "901a55b8",
   "metadata": {},
   "source": [
    "### Training and test set"
   ]
  },
  {
   "cell_type": "markdown",
   "id": "93762114",
   "metadata": {},
   "source": [
    "To split the data set, we use the train_test_split function from the scikit-learn package."
   ]
  },
  {
   "cell_type": "code",
   "execution_count": 369,
   "id": "4874a78f",
   "metadata": {},
   "outputs": [],
   "source": [
    "from sklearn.model_selection import train_test_split"
   ]
  },
  {
   "cell_type": "code",
   "execution_count": 370,
   "id": "b825bac7",
   "metadata": {},
   "outputs": [
    {
     "data": {
      "text/html": [
       "<div>\n",
       "<style scoped>\n",
       "    .dataframe tbody tr th:only-of-type {\n",
       "        vertical-align: middle;\n",
       "    }\n",
       "\n",
       "    .dataframe tbody tr th {\n",
       "        vertical-align: top;\n",
       "    }\n",
       "\n",
       "    .dataframe thead th {\n",
       "        text-align: right;\n",
       "    }\n",
       "</style>\n",
       "<table border=\"1\" class=\"dataframe\">\n",
       "  <thead>\n",
       "    <tr style=\"text-align: right;\">\n",
       "      <th></th>\n",
       "      <th>region</th>\n",
       "      <th>price</th>\n",
       "      <th>sqfeet</th>\n",
       "      <th>beds</th>\n",
       "      <th>baths</th>\n",
       "    </tr>\n",
       "  </thead>\n",
       "  <tbody>\n",
       "    <tr>\n",
       "      <th>0</th>\n",
       "      <td>birmingham</td>\n",
       "      <td>1195</td>\n",
       "      <td>1908</td>\n",
       "      <td>3</td>\n",
       "      <td>2.0</td>\n",
       "    </tr>\n",
       "    <tr>\n",
       "      <th>1</th>\n",
       "      <td>birmingham</td>\n",
       "      <td>1120</td>\n",
       "      <td>1319</td>\n",
       "      <td>3</td>\n",
       "      <td>2.0</td>\n",
       "    </tr>\n",
       "    <tr>\n",
       "      <th>2</th>\n",
       "      <td>birmingham</td>\n",
       "      <td>825</td>\n",
       "      <td>1133</td>\n",
       "      <td>1</td>\n",
       "      <td>1.5</td>\n",
       "    </tr>\n",
       "    <tr>\n",
       "      <th>3</th>\n",
       "      <td>birmingham</td>\n",
       "      <td>800</td>\n",
       "      <td>927</td>\n",
       "      <td>1</td>\n",
       "      <td>1.0</td>\n",
       "    </tr>\n",
       "    <tr>\n",
       "      <th>4</th>\n",
       "      <td>birmingham</td>\n",
       "      <td>785</td>\n",
       "      <td>1047</td>\n",
       "      <td>2</td>\n",
       "      <td>1.0</td>\n",
       "    </tr>\n",
       "    <tr>\n",
       "      <th>5</th>\n",
       "      <td>birmingham</td>\n",
       "      <td>900</td>\n",
       "      <td>1298</td>\n",
       "      <td>2</td>\n",
       "      <td>2.0</td>\n",
       "    </tr>\n",
       "    <tr>\n",
       "      <th>6</th>\n",
       "      <td>birmingham</td>\n",
       "      <td>925</td>\n",
       "      <td>1350</td>\n",
       "      <td>2</td>\n",
       "      <td>2.0</td>\n",
       "    </tr>\n",
       "    <tr>\n",
       "      <th>7</th>\n",
       "      <td>birmingham</td>\n",
       "      <td>1085</td>\n",
       "      <td>2308</td>\n",
       "      <td>3</td>\n",
       "      <td>2.0</td>\n",
       "    </tr>\n",
       "    <tr>\n",
       "      <th>8</th>\n",
       "      <td>birmingham</td>\n",
       "      <td>1269</td>\n",
       "      <td>1156</td>\n",
       "      <td>3</td>\n",
       "      <td>2.0</td>\n",
       "    </tr>\n",
       "    <tr>\n",
       "      <th>9</th>\n",
       "      <td>birmingham</td>\n",
       "      <td>799</td>\n",
       "      <td>703</td>\n",
       "      <td>1</td>\n",
       "      <td>1.0</td>\n",
       "    </tr>\n",
       "    <tr>\n",
       "      <th>10</th>\n",
       "      <td>birmingham</td>\n",
       "      <td>890</td>\n",
       "      <td>1050</td>\n",
       "      <td>2</td>\n",
       "      <td>2.0</td>\n",
       "    </tr>\n",
       "    <tr>\n",
       "      <th>11</th>\n",
       "      <td>birmingham</td>\n",
       "      <td>1355</td>\n",
       "      <td>1375</td>\n",
       "      <td>3</td>\n",
       "      <td>2.0</td>\n",
       "    </tr>\n",
       "    <tr>\n",
       "      <th>12</th>\n",
       "      <td>birmingham</td>\n",
       "      <td>1120</td>\n",
       "      <td>1319</td>\n",
       "      <td>3</td>\n",
       "      <td>2.0</td>\n",
       "    </tr>\n",
       "    <tr>\n",
       "      <th>13</th>\n",
       "      <td>birmingham</td>\n",
       "      <td>685</td>\n",
       "      <td>672</td>\n",
       "      <td>2</td>\n",
       "      <td>1.0</td>\n",
       "    </tr>\n",
       "    <tr>\n",
       "      <th>14</th>\n",
       "      <td>birmingham</td>\n",
       "      <td>1060</td>\n",
       "      <td>1100</td>\n",
       "      <td>2</td>\n",
       "      <td>2.0</td>\n",
       "    </tr>\n",
       "    <tr>\n",
       "      <th>15</th>\n",
       "      <td>birmingham</td>\n",
       "      <td>1236</td>\n",
       "      <td>1285</td>\n",
       "      <td>2</td>\n",
       "      <td>2.0</td>\n",
       "    </tr>\n",
       "    <tr>\n",
       "      <th>16</th>\n",
       "      <td>birmingham</td>\n",
       "      <td>1100</td>\n",
       "      <td>1100</td>\n",
       "      <td>2</td>\n",
       "      <td>2.0</td>\n",
       "    </tr>\n",
       "    <tr>\n",
       "      <th>17</th>\n",
       "      <td>birmingham</td>\n",
       "      <td>870</td>\n",
       "      <td>851</td>\n",
       "      <td>1</td>\n",
       "      <td>1.0</td>\n",
       "    </tr>\n",
       "    <tr>\n",
       "      <th>18</th>\n",
       "      <td>birmingham</td>\n",
       "      <td>815</td>\n",
       "      <td>851</td>\n",
       "      <td>1</td>\n",
       "      <td>1.0</td>\n",
       "    </tr>\n",
       "    <tr>\n",
       "      <th>19</th>\n",
       "      <td>birmingham</td>\n",
       "      <td>1195</td>\n",
       "      <td>1908</td>\n",
       "      <td>3</td>\n",
       "      <td>2.0</td>\n",
       "    </tr>\n",
       "  </tbody>\n",
       "</table>\n",
       "</div>"
      ],
      "text/plain": [
       "        region  price  sqfeet  beds  baths\n",
       "0   birmingham   1195    1908     3    2.0\n",
       "1   birmingham   1120    1319     3    2.0\n",
       "2   birmingham    825    1133     1    1.5\n",
       "3   birmingham    800     927     1    1.0\n",
       "4   birmingham    785    1047     2    1.0\n",
       "5   birmingham    900    1298     2    2.0\n",
       "6   birmingham    925    1350     2    2.0\n",
       "7   birmingham   1085    2308     3    2.0\n",
       "8   birmingham   1269    1156     3    2.0\n",
       "9   birmingham    799     703     1    1.0\n",
       "10  birmingham    890    1050     2    2.0\n",
       "11  birmingham   1355    1375     3    2.0\n",
       "12  birmingham   1120    1319     3    2.0\n",
       "13  birmingham    685     672     2    1.0\n",
       "14  birmingham   1060    1100     2    2.0\n",
       "15  birmingham   1236    1285     2    2.0\n",
       "16  birmingham   1100    1100     2    2.0\n",
       "17  birmingham    870     851     1    1.0\n",
       "18  birmingham    815     851     1    1.0\n",
       "19  birmingham   1195    1908     3    2.0"
      ]
     },
     "execution_count": 370,
     "metadata": {},
     "output_type": "execute_result"
    }
   ],
   "source": [
    "p_2"
   ]
  },
  {
   "cell_type": "code",
   "execution_count": 371,
   "id": "39f4d7ae",
   "metadata": {},
   "outputs": [],
   "source": [
    "X = p_2[['sqfeet', 'beds', 'baths']]\n",
    "y = p_2['price']"
   ]
  },
  {
   "cell_type": "code",
   "execution_count": 372,
   "id": "9353c30c",
   "metadata": {},
   "outputs": [],
   "source": [
    "X_train,X_test,y_train, y_test = train_test_split(X, y, test_size=0.2, random_state=42)"
   ]
  },
  {
   "cell_type": "code",
   "execution_count": 373,
   "id": "8635b0a8",
   "metadata": {
    "scrolled": true
   },
   "outputs": [
    {
     "name": "stdout",
     "output_type": "stream",
     "text": [
      "(20, 3) (20,)\n",
      "(16, 3) (16,)\n",
      "(4, 3) (4,)\n"
     ]
    }
   ],
   "source": [
    "print(X.shape, y.shape)\n",
    "print(X_train.shape, y_train.shape)\n",
    "print(X_test.shape, y_test.shape)"
   ]
  },
  {
   "cell_type": "markdown",
   "id": "df41c04a",
   "metadata": {},
   "source": [
    "### Validation set"
   ]
  },
  {
   "cell_type": "markdown",
   "id": "928b0296",
   "metadata": {},
   "source": [
    "Finally, we can see that the training set contains 27 samples, and the validation and test sets - 10 each."
   ]
  },
  {
   "cell_type": "code",
   "execution_count": 374,
   "id": "514f55ec",
   "metadata": {},
   "outputs": [
    {
     "data": {
      "text/html": [
       "<div>\n",
       "<style scoped>\n",
       "    .dataframe tbody tr th:only-of-type {\n",
       "        vertical-align: middle;\n",
       "    }\n",
       "\n",
       "    .dataframe tbody tr th {\n",
       "        vertical-align: top;\n",
       "    }\n",
       "\n",
       "    .dataframe thead th {\n",
       "        text-align: right;\n",
       "    }\n",
       "</style>\n",
       "<table border=\"1\" class=\"dataframe\">\n",
       "  <thead>\n",
       "    <tr style=\"text-align: right;\">\n",
       "      <th></th>\n",
       "      <th>region</th>\n",
       "      <th>price</th>\n",
       "      <th>sqfeet</th>\n",
       "      <th>beds</th>\n",
       "      <th>baths</th>\n",
       "    </tr>\n",
       "  </thead>\n",
       "  <tbody>\n",
       "    <tr>\n",
       "      <th>0</th>\n",
       "      <td>birmingham</td>\n",
       "      <td>1195</td>\n",
       "      <td>1908</td>\n",
       "      <td>3</td>\n",
       "      <td>2.0</td>\n",
       "    </tr>\n",
       "    <tr>\n",
       "      <th>1</th>\n",
       "      <td>birmingham</td>\n",
       "      <td>1120</td>\n",
       "      <td>1319</td>\n",
       "      <td>3</td>\n",
       "      <td>2.0</td>\n",
       "    </tr>\n",
       "    <tr>\n",
       "      <th>2</th>\n",
       "      <td>birmingham</td>\n",
       "      <td>825</td>\n",
       "      <td>1133</td>\n",
       "      <td>1</td>\n",
       "      <td>1.5</td>\n",
       "    </tr>\n",
       "    <tr>\n",
       "      <th>3</th>\n",
       "      <td>birmingham</td>\n",
       "      <td>800</td>\n",
       "      <td>927</td>\n",
       "      <td>1</td>\n",
       "      <td>1.0</td>\n",
       "    </tr>\n",
       "    <tr>\n",
       "      <th>4</th>\n",
       "      <td>birmingham</td>\n",
       "      <td>785</td>\n",
       "      <td>1047</td>\n",
       "      <td>2</td>\n",
       "      <td>1.0</td>\n",
       "    </tr>\n",
       "    <tr>\n",
       "      <th>5</th>\n",
       "      <td>birmingham</td>\n",
       "      <td>900</td>\n",
       "      <td>1298</td>\n",
       "      <td>2</td>\n",
       "      <td>2.0</td>\n",
       "    </tr>\n",
       "    <tr>\n",
       "      <th>6</th>\n",
       "      <td>birmingham</td>\n",
       "      <td>925</td>\n",
       "      <td>1350</td>\n",
       "      <td>2</td>\n",
       "      <td>2.0</td>\n",
       "    </tr>\n",
       "    <tr>\n",
       "      <th>7</th>\n",
       "      <td>birmingham</td>\n",
       "      <td>1085</td>\n",
       "      <td>2308</td>\n",
       "      <td>3</td>\n",
       "      <td>2.0</td>\n",
       "    </tr>\n",
       "    <tr>\n",
       "      <th>8</th>\n",
       "      <td>birmingham</td>\n",
       "      <td>1269</td>\n",
       "      <td>1156</td>\n",
       "      <td>3</td>\n",
       "      <td>2.0</td>\n",
       "    </tr>\n",
       "    <tr>\n",
       "      <th>9</th>\n",
       "      <td>birmingham</td>\n",
       "      <td>799</td>\n",
       "      <td>703</td>\n",
       "      <td>1</td>\n",
       "      <td>1.0</td>\n",
       "    </tr>\n",
       "    <tr>\n",
       "      <th>10</th>\n",
       "      <td>birmingham</td>\n",
       "      <td>890</td>\n",
       "      <td>1050</td>\n",
       "      <td>2</td>\n",
       "      <td>2.0</td>\n",
       "    </tr>\n",
       "    <tr>\n",
       "      <th>11</th>\n",
       "      <td>birmingham</td>\n",
       "      <td>1355</td>\n",
       "      <td>1375</td>\n",
       "      <td>3</td>\n",
       "      <td>2.0</td>\n",
       "    </tr>\n",
       "    <tr>\n",
       "      <th>12</th>\n",
       "      <td>birmingham</td>\n",
       "      <td>1120</td>\n",
       "      <td>1319</td>\n",
       "      <td>3</td>\n",
       "      <td>2.0</td>\n",
       "    </tr>\n",
       "    <tr>\n",
       "      <th>13</th>\n",
       "      <td>birmingham</td>\n",
       "      <td>685</td>\n",
       "      <td>672</td>\n",
       "      <td>2</td>\n",
       "      <td>1.0</td>\n",
       "    </tr>\n",
       "    <tr>\n",
       "      <th>14</th>\n",
       "      <td>birmingham</td>\n",
       "      <td>1060</td>\n",
       "      <td>1100</td>\n",
       "      <td>2</td>\n",
       "      <td>2.0</td>\n",
       "    </tr>\n",
       "    <tr>\n",
       "      <th>15</th>\n",
       "      <td>birmingham</td>\n",
       "      <td>1236</td>\n",
       "      <td>1285</td>\n",
       "      <td>2</td>\n",
       "      <td>2.0</td>\n",
       "    </tr>\n",
       "    <tr>\n",
       "      <th>16</th>\n",
       "      <td>birmingham</td>\n",
       "      <td>1100</td>\n",
       "      <td>1100</td>\n",
       "      <td>2</td>\n",
       "      <td>2.0</td>\n",
       "    </tr>\n",
       "    <tr>\n",
       "      <th>17</th>\n",
       "      <td>birmingham</td>\n",
       "      <td>870</td>\n",
       "      <td>851</td>\n",
       "      <td>1</td>\n",
       "      <td>1.0</td>\n",
       "    </tr>\n",
       "    <tr>\n",
       "      <th>18</th>\n",
       "      <td>birmingham</td>\n",
       "      <td>815</td>\n",
       "      <td>851</td>\n",
       "      <td>1</td>\n",
       "      <td>1.0</td>\n",
       "    </tr>\n",
       "    <tr>\n",
       "      <th>19</th>\n",
       "      <td>birmingham</td>\n",
       "      <td>1195</td>\n",
       "      <td>1908</td>\n",
       "      <td>3</td>\n",
       "      <td>2.0</td>\n",
       "    </tr>\n",
       "  </tbody>\n",
       "</table>\n",
       "</div>"
      ],
      "text/plain": [
       "        region  price  sqfeet  beds  baths\n",
       "0   birmingham   1195    1908     3    2.0\n",
       "1   birmingham   1120    1319     3    2.0\n",
       "2   birmingham    825    1133     1    1.5\n",
       "3   birmingham    800     927     1    1.0\n",
       "4   birmingham    785    1047     2    1.0\n",
       "5   birmingham    900    1298     2    2.0\n",
       "6   birmingham    925    1350     2    2.0\n",
       "7   birmingham   1085    2308     3    2.0\n",
       "8   birmingham   1269    1156     3    2.0\n",
       "9   birmingham    799     703     1    1.0\n",
       "10  birmingham    890    1050     2    2.0\n",
       "11  birmingham   1355    1375     3    2.0\n",
       "12  birmingham   1120    1319     3    2.0\n",
       "13  birmingham    685     672     2    1.0\n",
       "14  birmingham   1060    1100     2    2.0\n",
       "15  birmingham   1236    1285     2    2.0\n",
       "16  birmingham   1100    1100     2    2.0\n",
       "17  birmingham    870     851     1    1.0\n",
       "18  birmingham    815     851     1    1.0\n",
       "19  birmingham   1195    1908     3    2.0"
      ]
     },
     "execution_count": 374,
     "metadata": {},
     "output_type": "execute_result"
    }
   ],
   "source": [
    "p_2"
   ]
  },
  {
   "cell_type": "code",
   "execution_count": 375,
   "id": "8b682965",
   "metadata": {},
   "outputs": [],
   "source": [
    "X = p_2[['sqfeet', 'beds', 'baths']]\n",
    "y = p_2['price']"
   ]
  },
  {
   "cell_type": "code",
   "execution_count": 376,
   "id": "137ff43b",
   "metadata": {},
   "outputs": [],
   "source": [
    "X_train,X_test,y_train, y_test = train_test_split(X, y, test_size=0.2, random_state=42)\n",
    "X_train,X_val,y_train, y_val = train_test_split(X_train, y_train, test_size=0.25, random_state=1)"
   ]
  },
  {
   "cell_type": "code",
   "execution_count": 377,
   "id": "d4ffdab7",
   "metadata": {},
   "outputs": [
    {
     "name": "stdout",
     "output_type": "stream",
     "text": [
      "(20, 3) (20,)\n",
      "(12, 3) (12,)\n",
      "(4, 3) (4,)\n",
      "(4, 3) (4,)\n"
     ]
    }
   ],
   "source": [
    "print(X.shape, y.shape)\n",
    "print(X_train.shape, y_train.shape)\n",
    "print(X_val.shape, y_val.shape)\n",
    "print(X_test.shape, y_test.shape)"
   ]
  },
  {
   "cell_type": "markdown",
   "id": "cf15a464",
   "metadata": {},
   "source": [
    "### CROSS VALIDATION = k-fold cross-validation"
   ]
  },
  {
   "cell_type": "code",
   "execution_count": 378,
   "id": "f2ecb1ca",
   "metadata": {},
   "outputs": [],
   "source": [
    "from sklearn.model_selection import KFold"
   ]
  },
  {
   "cell_type": "code",
   "execution_count": 379,
   "id": "ac5fc3fc",
   "metadata": {},
   "outputs": [],
   "source": [
    "X = p_2[['sqfeet', 'beds', 'baths']]\n",
    "y = p_2['price']"
   ]
  },
  {
   "cell_type": "code",
   "execution_count": 380,
   "id": "d0794340",
   "metadata": {
    "scrolled": true
   },
   "outputs": [
    {
     "name": "stdout",
     "output_type": "stream",
     "text": [
      "(16, 3) (4, 3)\n",
      "(16, 3) (4, 3)\n",
      "(16, 3) (4, 3)\n",
      "(16, 3) (4, 3)\n",
      "(16, 3) (4, 3)\n"
     ]
    }
   ],
   "source": [
    "cross = KFold(n_splits=5, shuffle=True, random_state=42)\n",
    "for train, test in cross.split(X,y):\n",
    "    X_train, y_train = X.iloc[train], y.iloc[train]\n",
    "    X_test, y_test = X.iloc[test], y.iloc[test]\n",
    "    print(X_train.shape, X_test.shape)"
   ]
  },
  {
   "cell_type": "markdown",
   "id": "23acb126",
   "metadata": {},
   "source": [
    "### CROSS VALIDATION = k-fold leave-one-out cross-validation"
   ]
  },
  {
   "cell_type": "code",
   "execution_count": 381,
   "id": "0f0f341c",
   "metadata": {},
   "outputs": [],
   "source": [
    "from sklearn.model_selection import LeaveOneOut"
   ]
  },
  {
   "cell_type": "code",
   "execution_count": 382,
   "id": "ed4980c6",
   "metadata": {},
   "outputs": [],
   "source": [
    "X = p_2[['sqfeet', 'beds', 'baths']]\n",
    "y = p_2['price']"
   ]
  },
  {
   "cell_type": "code",
   "execution_count": 383,
   "id": "37f7022c",
   "metadata": {},
   "outputs": [
    {
     "name": "stdout",
     "output_type": "stream",
     "text": [
      "(19, 3) (1, 3)\n",
      "(19, 3) (1, 3)\n",
      "(19, 3) (1, 3)\n",
      "(19, 3) (1, 3)\n",
      "(19, 3) (1, 3)\n",
      "(19, 3) (1, 3)\n",
      "(19, 3) (1, 3)\n",
      "(19, 3) (1, 3)\n",
      "(19, 3) (1, 3)\n",
      "(19, 3) (1, 3)\n",
      "(19, 3) (1, 3)\n",
      "(19, 3) (1, 3)\n",
      "(19, 3) (1, 3)\n",
      "(19, 3) (1, 3)\n",
      "(19, 3) (1, 3)\n",
      "(19, 3) (1, 3)\n",
      "(19, 3) (1, 3)\n",
      "(19, 3) (1, 3)\n",
      "(19, 3) (1, 3)\n",
      "(19, 3) (1, 3)\n"
     ]
    }
   ],
   "source": [
    "cross = LeaveOneOut()\n",
    "for train, test in cross.split(X,y):\n",
    "    X_train, y_train = X.iloc[train], y.iloc[train]\n",
    "    X_test, y_test = X.iloc[test], y.iloc[test]\n",
    "    print(X_train.shape, X_test.shape)"
   ]
  },
  {
   "cell_type": "markdown",
   "id": "7d3a7b1e",
   "metadata": {},
   "source": [
    "### R2 Factor in scikit-learn"
   ]
  },
  {
   "cell_type": "code",
   "execution_count": 384,
   "id": "9f6c625f",
   "metadata": {},
   "outputs": [],
   "source": [
    "from sklearn.metrics import r2_score"
   ]
  },
  {
   "cell_type": "code",
   "execution_count": 385,
   "id": "8a6b8242",
   "metadata": {},
   "outputs": [],
   "source": [
    "X = p_2[['sqfeet', 'beds', 'baths']]\n",
    "y = p_2['price']"
   ]
  },
  {
   "cell_type": "code",
   "execution_count": 386,
   "id": "776cbd3d",
   "metadata": {},
   "outputs": [
    {
     "data": {
      "text/plain": [
       "LinearRegression()"
      ]
     },
     "execution_count": 386,
     "metadata": {},
     "output_type": "execute_result"
    }
   ],
   "source": [
    "model = LinearRegression()\n",
    "model.fit(X, y)"
   ]
  },
  {
   "cell_type": "code",
   "execution_count": 387,
   "id": "1ebf7e48",
   "metadata": {},
   "outputs": [],
   "source": [
    "y_predict = model.predict(X)"
   ]
  },
  {
   "cell_type": "code",
   "execution_count": 388,
   "id": "40b7286b",
   "metadata": {},
   "outputs": [
    {
     "data": {
      "text/plain": [
       "0.6896766185427139"
      ]
     },
     "execution_count": 388,
     "metadata": {},
     "output_type": "execute_result"
    }
   ],
   "source": [
    "r2_score(y, y_predict)"
   ]
  },
  {
   "cell_type": "markdown",
   "id": "6a871018",
   "metadata": {},
   "source": [
    "### Evaluation of the effectiveness of the regression models"
   ]
  },
  {
   "cell_type": "code",
   "execution_count": 480,
   "id": "5e20d631",
   "metadata": {},
   "outputs": [],
   "source": [
    "from sklearn.metrics import mean_absolute_error\n",
    "from sklearn.metrics import mean_absolute_percentage_error\n",
    "from sklearn.metrics import mean_squared_error"
   ]
  },
  {
   "cell_type": "markdown",
   "id": "fa7f2733",
   "metadata": {},
   "source": [
    "##### Linear regression"
   ]
  },
  {
   "cell_type": "code",
   "execution_count": 481,
   "id": "5e9b73c1",
   "metadata": {},
   "outputs": [],
   "source": [
    "X = p_2[['sqfeet']]\n",
    "y = p_2 ['price']"
   ]
  },
  {
   "cell_type": "code",
   "execution_count": 482,
   "id": "ec50bab1",
   "metadata": {},
   "outputs": [],
   "source": [
    "X_train,X_test,y_train, y_test = train_test_split(X, y, test_size=0.2, random_state=42)"
   ]
  },
  {
   "cell_type": "code",
   "execution_count": 483,
   "id": "e17b5c20",
   "metadata": {},
   "outputs": [
    {
     "data": {
      "text/plain": [
       "LinearRegression()"
      ]
     },
     "execution_count": 483,
     "metadata": {},
     "output_type": "execute_result"
    }
   ],
   "source": [
    "model = LinearRegression()\n",
    "model.fit(X_train, y_train)"
   ]
  },
  {
   "cell_type": "code",
   "execution_count": 484,
   "id": "2326d6d0",
   "metadata": {},
   "outputs": [],
   "source": [
    "y_p1 = model.predict(X_test)"
   ]
  },
  {
   "cell_type": "code",
   "execution_count": 485,
   "id": "27c9f6ec",
   "metadata": {},
   "outputs": [
    {
     "data": {
      "text/plain": [
       "97.39363151322706"
      ]
     },
     "execution_count": 485,
     "metadata": {},
     "output_type": "execute_result"
    }
   ],
   "source": [
    "mean_absolute_error(y_test, y_p1)"
   ]
  },
  {
   "cell_type": "code",
   "execution_count": 486,
   "id": "724e31bf",
   "metadata": {},
   "outputs": [
    {
     "data": {
      "text/plain": [
       "0.0821166434208538"
      ]
     },
     "execution_count": 486,
     "metadata": {},
     "output_type": "execute_result"
    }
   ],
   "source": [
    "mean_absolute_percentage_error(y_test, y_p1)"
   ]
  },
  {
   "cell_type": "code",
   "execution_count": 487,
   "id": "6099778b",
   "metadata": {},
   "outputs": [
    {
     "data": {
      "text/plain": [
       "17728.21818013442"
      ]
     },
     "execution_count": 487,
     "metadata": {},
     "output_type": "execute_result"
    }
   ],
   "source": [
    "mean_squared_error(y_test, y_p1)"
   ]
  },
  {
   "cell_type": "code",
   "execution_count": 488,
   "id": "e12bd5d4",
   "metadata": {},
   "outputs": [
    {
     "data": {
      "text/plain": [
       "133.1473551375859"
      ]
     },
     "execution_count": 488,
     "metadata": {},
     "output_type": "execute_result"
    }
   ],
   "source": [
    "mean_squared_error(y_test, y_p1, squared=False)"
   ]
  },
  {
   "cell_type": "markdown",
   "id": "ca7af6a1",
   "metadata": {},
   "source": [
    "##### Multivariable regression"
   ]
  },
  {
   "cell_type": "code",
   "execution_count": 489,
   "id": "74f8ab1c",
   "metadata": {},
   "outputs": [],
   "source": [
    "X = p_2[['sqfeet', 'beds', 'baths']]\n",
    "y = p_2['price']"
   ]
  },
  {
   "cell_type": "code",
   "execution_count": 490,
   "id": "19e71b2e",
   "metadata": {},
   "outputs": [],
   "source": [
    "X_train,X_test,y_train, y_test = train_test_split(X, y, test_size=0.2, random_state=42)"
   ]
  },
  {
   "cell_type": "code",
   "execution_count": 491,
   "id": "6eb18110",
   "metadata": {},
   "outputs": [
    {
     "data": {
      "text/plain": [
       "LinearRegression()"
      ]
     },
     "execution_count": 491,
     "metadata": {},
     "output_type": "execute_result"
    }
   ],
   "source": [
    "model = LinearRegression()\n",
    "model.fit(X_train, y_train)"
   ]
  },
  {
   "cell_type": "code",
   "execution_count": 492,
   "id": "aa1ecce0",
   "metadata": {},
   "outputs": [],
   "source": [
    "y_p2 = model.predict(X_test)"
   ]
  },
  {
   "cell_type": "code",
   "execution_count": 493,
   "id": "f1010fb8",
   "metadata": {},
   "outputs": [
    {
     "data": {
      "text/plain": [
       "110.89838858591577"
      ]
     },
     "execution_count": 493,
     "metadata": {},
     "output_type": "execute_result"
    }
   ],
   "source": [
    "mean_absolute_error(y_test, y_p2)"
   ]
  },
  {
   "cell_type": "code",
   "execution_count": 494,
   "id": "72567493",
   "metadata": {},
   "outputs": [
    {
     "data": {
      "text/plain": [
       "0.10327110348338839"
      ]
     },
     "execution_count": 494,
     "metadata": {},
     "output_type": "execute_result"
    }
   ],
   "source": [
    "mean_absolute_percentage_error(y_test, y_p2)"
   ]
  },
  {
   "cell_type": "code",
   "execution_count": 495,
   "id": "a6da7be3",
   "metadata": {},
   "outputs": [
    {
     "data": {
      "text/plain": [
       "17296.848191484332"
      ]
     },
     "execution_count": 495,
     "metadata": {},
     "output_type": "execute_result"
    }
   ],
   "source": [
    "mean_squared_error(y_test, y_p2)"
   ]
  },
  {
   "cell_type": "code",
   "execution_count": 496,
   "id": "734a43b7",
   "metadata": {},
   "outputs": [
    {
     "data": {
      "text/plain": [
       "131.5174824556961"
      ]
     },
     "execution_count": 496,
     "metadata": {},
     "output_type": "execute_result"
    }
   ],
   "source": [
    "mean_squared_error(y_test, y_p2, squared=False)"
   ]
  },
  {
   "cell_type": "markdown",
   "id": "4e9cc548",
   "metadata": {},
   "source": [
    "##### Polynomial regression"
   ]
  },
  {
   "cell_type": "code",
   "execution_count": 497,
   "id": "bbce1d99",
   "metadata": {},
   "outputs": [],
   "source": [
    "X = p_2[['sqfeet']]\n",
    "y = p_2['price']"
   ]
  },
  {
   "cell_type": "code",
   "execution_count": 498,
   "id": "1d62bee4",
   "metadata": {},
   "outputs": [],
   "source": [
    "X_train,X_test,y_train, y_test = train_test_split(X, y, test_size=0.2, random_state=42)"
   ]
  },
  {
   "cell_type": "code",
   "execution_count": 499,
   "id": "68aa20f7",
   "metadata": {},
   "outputs": [],
   "source": [
    "poly = PolynomialFeatures(degree=3)\n",
    "X_poly = poly.fit_transform(X)"
   ]
  },
  {
   "cell_type": "code",
   "execution_count": 500,
   "id": "371b5228",
   "metadata": {},
   "outputs": [
    {
     "data": {
      "text/plain": [
       "LinearRegression()"
      ]
     },
     "execution_count": 500,
     "metadata": {},
     "output_type": "execute_result"
    }
   ],
   "source": [
    "model = LinearRegression()\n",
    "model.fit(X_poly, y)"
   ]
  },
  {
   "cell_type": "code",
   "execution_count": 501,
   "id": "739bc519",
   "metadata": {
    "scrolled": true
   },
   "outputs": [],
   "source": [
    "predict_data_poly = poly.transform(X_test)"
   ]
  },
  {
   "cell_type": "code",
   "execution_count": 502,
   "id": "b6c451d0",
   "metadata": {},
   "outputs": [],
   "source": [
    "y_p3 = model.predict(predict_data_poly)"
   ]
  },
  {
   "cell_type": "code",
   "execution_count": 503,
   "id": "56b96e58",
   "metadata": {},
   "outputs": [
    {
     "data": {
      "text/plain": [
       "58.36304049065842"
      ]
     },
     "execution_count": 503,
     "metadata": {},
     "output_type": "execute_result"
    }
   ],
   "source": [
    "mean_absolute_error(y_test, y_p3)"
   ]
  },
  {
   "cell_type": "code",
   "execution_count": 504,
   "id": "2c576a6d",
   "metadata": {},
   "outputs": [
    {
     "data": {
      "text/plain": [
       "0.05115083066464982"
      ]
     },
     "execution_count": 504,
     "metadata": {},
     "output_type": "execute_result"
    }
   ],
   "source": [
    "mean_absolute_percentage_error(y_test, y_p3)"
   ]
  },
  {
   "cell_type": "code",
   "execution_count": 505,
   "id": "3271bd14",
   "metadata": {},
   "outputs": [
    {
     "data": {
      "text/plain": [
       "6252.693494148982"
      ]
     },
     "execution_count": 505,
     "metadata": {},
     "output_type": "execute_result"
    }
   ],
   "source": [
    "mean_squared_error(y_test, y_p3)"
   ]
  },
  {
   "cell_type": "code",
   "execution_count": 506,
   "id": "350f204f",
   "metadata": {},
   "outputs": [
    {
     "data": {
      "text/plain": [
       "79.07397482199173"
      ]
     },
     "execution_count": 506,
     "metadata": {},
     "output_type": "execute_result"
    }
   ],
   "source": [
    "mean_squared_error(y_test, y_p3, squared=False)"
   ]
  },
  {
   "cell_type": "markdown",
   "id": "ea5f2814",
   "metadata": {},
   "source": [
    "##### Decision Tree"
   ]
  },
  {
   "cell_type": "code",
   "execution_count": 507,
   "id": "4d422416",
   "metadata": {},
   "outputs": [],
   "source": [
    "X = p_2[['sqfeet', 'beds','baths']]\n",
    "y= p_2['price']"
   ]
  },
  {
   "cell_type": "code",
   "execution_count": 508,
   "id": "1cbf911c",
   "metadata": {},
   "outputs": [],
   "source": [
    "X_train,X_test,y_train, y_test = train_test_split(X, y, test_size=0.2, random_state=42)"
   ]
  },
  {
   "cell_type": "code",
   "execution_count": 509,
   "id": "0824d720",
   "metadata": {},
   "outputs": [
    {
     "data": {
      "text/plain": [
       "DecisionTreeRegressor()"
      ]
     },
     "execution_count": 509,
     "metadata": {},
     "output_type": "execute_result"
    }
   ],
   "source": [
    "model = DecisionTreeRegressor()\n",
    "model.fit(X_train, y_train)"
   ]
  },
  {
   "cell_type": "code",
   "execution_count": 510,
   "id": "e87c09c9",
   "metadata": {},
   "outputs": [],
   "source": [
    "y_p4 = model.predict(X_test)"
   ]
  },
  {
   "cell_type": "code",
   "execution_count": 511,
   "id": "4e6156bb",
   "metadata": {},
   "outputs": [
    {
     "data": {
      "text/plain": [
       "97.75"
      ]
     },
     "execution_count": 511,
     "metadata": {},
     "output_type": "execute_result"
    }
   ],
   "source": [
    "mean_absolute_error(y_test, y_p4)"
   ]
  },
  {
   "cell_type": "code",
   "execution_count": 512,
   "id": "87ef5946",
   "metadata": {},
   "outputs": [
    {
     "data": {
      "text/plain": [
       "0.0837657627496931"
      ]
     },
     "execution_count": 512,
     "metadata": {},
     "output_type": "execute_result"
    }
   ],
   "source": [
    "mean_absolute_percentage_error(y_test, y_p4)"
   ]
  },
  {
   "cell_type": "code",
   "execution_count": 513,
   "id": "6b9caef8",
   "metadata": {},
   "outputs": [
    {
     "data": {
      "text/plain": [
       "28980.25"
      ]
     },
     "execution_count": 513,
     "metadata": {},
     "output_type": "execute_result"
    }
   ],
   "source": [
    "mean_squared_error(y_test, y_p4)"
   ]
  },
  {
   "cell_type": "code",
   "execution_count": 514,
   "id": "29e9712e",
   "metadata": {},
   "outputs": [
    {
     "data": {
      "text/plain": [
       "170.23586578626725"
      ]
     },
     "execution_count": 514,
     "metadata": {},
     "output_type": "execute_result"
    }
   ],
   "source": [
    "mean_squared_error(y_test, y_p4, squared=False)"
   ]
  },
  {
   "cell_type": "markdown",
   "id": "7c03dbe8",
   "metadata": {},
   "source": [
    "<!DOCTYPE html>\n",
    "<html>\n",
    "<style>\n",
    "table, th, td {\n",
    "  border:1px solid black;\n",
    "}\n",
    "</style>\n",
    "<body>\n",
    "\n",
    "<h2>Comparison of different Models</h2>\n",
    "\n",
    "<table style=\"width:100%\">\n",
    "  <tr>\n",
    "    <th></th>\n",
    "    <th>Linear</th>\n",
    "    <th>MultiVar</th>\n",
    "    <th>Poly</th>\n",
    "    <th>Decision Tree</th>\n",
    "  </tr>\n",
    "  <tr><b>\n",
    "    <b><td>MAE</td></b>\n",
    "    <td>97.39363151322706</td>\n",
    "    <td>110.89838858591577</td>\n",
    "    <td>58.36304049065842</td>\n",
    "    <td>97.75</td>\n",
    "  </tr>\n",
    "  <tr>\n",
    "    <b><td>MSE</td></b>\n",
    "    <td>17728.21818013442</td>\n",
    "    <td>17296.848191484332</td>\n",
    "    <td>6252.693494148982</td>\n",
    "    <td>28980.25</td>\n",
    "  </tr>\n",
    "    <tr>\n",
    "    <b><td>RMSE</td></b>\n",
    "    <td>133.1473551375859</td>\n",
    "    <td>131.5174824556961</td>\n",
    "    <td>79.07397482199173</td>\n",
    "    <td>170.23586578626725</td>\n",
    "  </tr>\n",
    "</table>\n",
    "\n",
    "\n",
    "\n",
    "</body>\n",
    "</html>\n"
   ]
  },
  {
   "cell_type": "markdown",
   "id": "9a1d7d56",
   "metadata": {},
   "source": [
    "### Conclusion"
   ]
  },
  {
   "cell_type": "markdown",
   "id": "fb251aa3",
   "metadata": {},
   "source": [
    "Based on the computed R-squared, the linear regression generated in this project explains about 68.97% of the variability."
   ]
  }
 ],
 "metadata": {
  "kernelspec": {
   "display_name": "Python 3",
   "language": "python",
   "name": "python3"
  },
  "language_info": {
   "codemirror_mode": {
    "name": "ipython",
    "version": 3
   },
   "file_extension": ".py",
   "mimetype": "text/x-python",
   "name": "python",
   "nbconvert_exporter": "python",
   "pygments_lexer": "ipython3",
   "version": "3.8.8"
  }
 },
 "nbformat": 4,
 "nbformat_minor": 5
}
